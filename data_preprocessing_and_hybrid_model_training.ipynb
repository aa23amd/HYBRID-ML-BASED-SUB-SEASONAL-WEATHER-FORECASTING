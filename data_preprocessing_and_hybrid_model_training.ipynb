{
  "nbformat": 4,
  "nbformat_minor": 0,
  "metadata": {
    "colab": {
      "provenance": [],
      "authorship_tag": "ABX9TyNtt+5Jt/Ccam2Tf6Kivs0s",
      "include_colab_link": true
    },
    "kernelspec": {
      "name": "python3",
      "display_name": "Python 3"
    },
    "language_info": {
      "name": "python"
    }
  },
  "cells": [
    {
      "cell_type": "markdown",
      "metadata": {
        "id": "view-in-github",
        "colab_type": "text"
      },
      "source": [
        "<a href=\"https://colab.research.google.com/github/aa23amd/HYBRID-ML-BASED-SUB-SEASONAL-WEATHER-FORECASTING/blob/main/data_preprocessing_and_hybrid_model_training.ipynb\" target=\"_parent\"><img src=\"https://colab.research.google.com/assets/colab-badge.svg\" alt=\"Open In Colab\"/></a>"
      ]
    },
    {
      "cell_type": "code",
      "source": [
        "from google.colab import drive\n",
        "drive.mount('/content/drive')\n"
      ],
      "metadata": {
        "colab": {
          "base_uri": "https://localhost:8080/"
        },
        "id": "30jcDKNF3Twe",
        "outputId": "cc202529-4b08-451f-e56b-b68499cad9ce"
      },
      "execution_count": 1,
      "outputs": [
        {
          "output_type": "stream",
          "name": "stdout",
          "text": [
            "Mounted at /content/drive\n"
          ]
        }
      ]
    },
    {
      "cell_type": "code",
      "source": [
        "!unzip -o \"/content/drive/MyDrive/train_data.csv.zip\" -d /content/"
      ],
      "metadata": {
        "colab": {
          "base_uri": "https://localhost:8080/"
        },
        "id": "DynY8Kf74NUt",
        "outputId": "0ae00218-807a-40fe-8b7e-afe7a82ef7b6"
      },
      "execution_count": 2,
      "outputs": [
        {
          "output_type": "stream",
          "name": "stdout",
          "text": [
            "Archive:  /content/drive/MyDrive/train_data.csv.zip\n",
            "  inflating: /content/train_data.csv  \n"
          ]
        }
      ]
    },
    {
      "cell_type": "code",
      "source": [
        "\n",
        "!unzip -o \"/content/drive/MyDrive/test_data.csv.zip\" -d /content/"
      ],
      "metadata": {
        "colab": {
          "base_uri": "https://localhost:8080/"
        },
        "id": "zfwxy1Eu4TH3",
        "outputId": "88397252-58ea-4fbd-bb02-68d2f7626183"
      },
      "execution_count": 3,
      "outputs": [
        {
          "output_type": "stream",
          "name": "stdout",
          "text": [
            "Archive:  /content/drive/MyDrive/test_data.csv.zip\n",
            "  inflating: /content/test_data.csv  \n"
          ]
        }
      ]
    },
    {
      "cell_type": "markdown",
      "source": [
        "data loading"
      ],
      "metadata": {
        "id": "yPJ-jXzt4jqR"
      }
    },
    {
      "cell_type": "code",
      "source": [
        "\n",
        "import pandas as pd\n",
        "\n",
        "# Load the training data\n",
        "train_df = pd.read_csv(\"/content/train_data.csv\")\n",
        "print(\"Training Data:\")\n",
        "print(train_df.head())\n",
        "\n",
        "# Load the test data\n",
        "test_df = pd.read_csv(\"/content/test_data.csv\")\n",
        "print(\"\\nTest Data:\")\n",
        "print(test_df.head())\n",
        "\n",
        "# Load dataset from drive\n",
        "df = pd.read_csv(\"/content/train_data.csv\")\n",
        "\n",
        "# Display dataset overview\n",
        "print(df.info())\n",
        "print(df.head())"
      ],
      "metadata": {
        "colab": {
          "base_uri": "https://localhost:8080/"
        },
        "id": "RTMvGDP_4lSw",
        "outputId": "963ea59b-03b0-42a8-dc17-7de9ba0d7879"
      },
      "execution_count": 7,
      "outputs": [
        {
          "output_type": "stream",
          "name": "stdout",
          "text": [
            "Training Data:\n",
            "   index  lat       lon startdate  contest-pevpr-sfc-gauss-14d__pevpr  \\\n",
            "0      0  0.0  0.833333    9/1/14                              237.00   \n",
            "1      1  0.0  0.833333    9/2/14                              228.90   \n",
            "2      2  0.0  0.833333    9/3/14                              220.69   \n",
            "3      3  0.0  0.833333    9/4/14                              225.28   \n",
            "4      4  0.0  0.833333    9/5/14                              237.24   \n",
            "\n",
            "   nmme0-tmp2m-34w__cancm30  nmme0-tmp2m-34w__cancm40  \\\n",
            "0                     29.02                     31.64   \n",
            "1                     29.02                     31.64   \n",
            "2                     29.02                     31.64   \n",
            "3                     29.02                     31.64   \n",
            "4                     29.02                     31.64   \n",
            "\n",
            "   nmme0-tmp2m-34w__ccsm30  nmme0-tmp2m-34w__ccsm40  nmme0-tmp2m-34w__cfsv20  \\\n",
            "0                    29.57                    30.73                    29.71   \n",
            "1                    29.57                    30.73                    29.71   \n",
            "2                    29.57                    30.73                    29.71   \n",
            "3                    29.57                    30.73                    29.71   \n",
            "4                    29.57                    30.73                    29.71   \n",
            "\n",
            "   ...  wind-vwnd-925-2010-11  wind-vwnd-925-2010-12  wind-vwnd-925-2010-13  \\\n",
            "0  ...                 -27.68                 -37.21                   8.32   \n",
            "1  ...                 -21.13                 -36.57                   8.77   \n",
            "2  ...                 -10.72                 -34.16                   6.99   \n",
            "3  ...                   0.33                 -31.04                   6.17   \n",
            "4  ...                   9.83                 -31.80                   7.47   \n",
            "\n",
            "   wind-vwnd-925-2010-14  wind-vwnd-925-2010-15  wind-vwnd-925-2010-16  \\\n",
            "0                   9.56                  -2.03                  48.13   \n",
            "1                  21.17                   4.44                  48.60   \n",
            "2                  32.16                   5.01                  48.53   \n",
            "3                  39.66                  -1.41                  50.59   \n",
            "4                  38.62                  -5.21                  54.73   \n",
            "\n",
            "   wind-vwnd-925-2010-17  wind-vwnd-925-2010-18  wind-vwnd-925-2010-19  \\\n",
            "0                  28.09                 -13.50                  11.90   \n",
            "1                  27.41                 -23.77                  15.44   \n",
            "2                  19.21                 -33.16                  15.11   \n",
            "3                   8.29                 -37.22                  18.24   \n",
            "4                  -2.58                 -42.30                  21.91   \n",
            "\n",
            "   wind-vwnd-925-2010-20  \n",
            "0                   4.58  \n",
            "1                   3.42  \n",
            "2                   4.82  \n",
            "3                   9.74  \n",
            "4                  10.95  \n",
            "\n",
            "[5 rows x 246 columns]\n",
            "\n",
            "Test Data:\n",
            "    index  lat       lon startdate  contest-pevpr-sfc-gauss-14d__pevpr  \\\n",
            "0  375734  0.0  0.833333   11/1/22                              339.88   \n",
            "1  375735  0.0  0.833333   11/2/22                              334.63   \n",
            "2  375736  0.0  0.833333   11/3/22                              337.83   \n",
            "3  375737  0.0  0.833333   11/4/22                              345.81   \n",
            "4  375738  0.0  0.833333   11/5/22                              357.39   \n",
            "\n",
            "   nmme0-tmp2m-34w__cancm30  nmme0-tmp2m-34w__cancm40  \\\n",
            "0                     30.88                     30.92   \n",
            "1                     30.88                     30.92   \n",
            "2                     30.88                     30.92   \n",
            "3                     30.88                     30.92   \n",
            "4                     30.88                     30.92   \n",
            "\n",
            "   nmme0-tmp2m-34w__ccsm30  nmme0-tmp2m-34w__ccsm40  nmme0-tmp2m-34w__cfsv20  \\\n",
            "0                    29.17                    31.02                    29.47   \n",
            "1                    29.17                    31.02                    29.47   \n",
            "2                    29.17                    31.02                    29.47   \n",
            "3                    29.17                    31.02                    29.47   \n",
            "4                    29.17                    31.02                    29.47   \n",
            "\n",
            "   ...  wind-vwnd-925-2010-11  wind-vwnd-925-2010-12  wind-vwnd-925-2010-13  \\\n",
            "0  ...                 -19.28                 -39.77                 -29.25   \n",
            "1  ...                 -19.58                 -43.14                 -28.62   \n",
            "2  ...                 -13.73                 -44.22                 -27.67   \n",
            "3  ...                  -7.97                 -49.47                 -19.32   \n",
            "4  ...                  -0.80                 -56.07                  -9.89   \n",
            "\n",
            "   wind-vwnd-925-2010-14  wind-vwnd-925-2010-15  wind-vwnd-925-2010-16  \\\n",
            "0                  40.88                  -8.31                  14.91   \n",
            "1                  45.37                  -5.42                  16.97   \n",
            "2                  49.76                  -1.31                  21.44   \n",
            "3                  52.62                  -0.44                  21.65   \n",
            "4                  51.23                  -7.57                  19.86   \n",
            "\n",
            "   wind-vwnd-925-2010-17  wind-vwnd-925-2010-18  wind-vwnd-925-2010-19  \\\n",
            "0                 -24.62                  31.05                 -23.69   \n",
            "1                 -23.94                  28.84                 -20.61   \n",
            "2                 -19.06                  26.85                 -16.78   \n",
            "3                 -23.12                  23.70                 -18.62   \n",
            "4                 -30.56                  20.66                 -25.08   \n",
            "\n",
            "   wind-vwnd-925-2010-20  \n",
            "0                   6.27  \n",
            "1                  14.16  \n",
            "2                  13.42  \n",
            "3                  10.69  \n",
            "4                  19.64  \n",
            "\n",
            "[5 rows x 245 columns]\n",
            "<class 'pandas.core.frame.DataFrame'>\n",
            "RangeIndex: 375734 entries, 0 to 375733\n",
            "Columns: 246 entries, index to wind-vwnd-925-2010-20\n",
            "dtypes: float64(240), int64(4), object(2)\n",
            "memory usage: 705.2+ MB\n",
            "None\n",
            "   index  lat       lon startdate  contest-pevpr-sfc-gauss-14d__pevpr  \\\n",
            "0      0  0.0  0.833333    9/1/14                              237.00   \n",
            "1      1  0.0  0.833333    9/2/14                              228.90   \n",
            "2      2  0.0  0.833333    9/3/14                              220.69   \n",
            "3      3  0.0  0.833333    9/4/14                              225.28   \n",
            "4      4  0.0  0.833333    9/5/14                              237.24   \n",
            "\n",
            "   nmme0-tmp2m-34w__cancm30  nmme0-tmp2m-34w__cancm40  \\\n",
            "0                     29.02                     31.64   \n",
            "1                     29.02                     31.64   \n",
            "2                     29.02                     31.64   \n",
            "3                     29.02                     31.64   \n",
            "4                     29.02                     31.64   \n",
            "\n",
            "   nmme0-tmp2m-34w__ccsm30  nmme0-tmp2m-34w__ccsm40  nmme0-tmp2m-34w__cfsv20  \\\n",
            "0                    29.57                    30.73                    29.71   \n",
            "1                    29.57                    30.73                    29.71   \n",
            "2                    29.57                    30.73                    29.71   \n",
            "3                    29.57                    30.73                    29.71   \n",
            "4                    29.57                    30.73                    29.71   \n",
            "\n",
            "   ...  wind-vwnd-925-2010-11  wind-vwnd-925-2010-12  wind-vwnd-925-2010-13  \\\n",
            "0  ...                 -27.68                 -37.21                   8.32   \n",
            "1  ...                 -21.13                 -36.57                   8.77   \n",
            "2  ...                 -10.72                 -34.16                   6.99   \n",
            "3  ...                   0.33                 -31.04                   6.17   \n",
            "4  ...                   9.83                 -31.80                   7.47   \n",
            "\n",
            "   wind-vwnd-925-2010-14  wind-vwnd-925-2010-15  wind-vwnd-925-2010-16  \\\n",
            "0                   9.56                  -2.03                  48.13   \n",
            "1                  21.17                   4.44                  48.60   \n",
            "2                  32.16                   5.01                  48.53   \n",
            "3                  39.66                  -1.41                  50.59   \n",
            "4                  38.62                  -5.21                  54.73   \n",
            "\n",
            "   wind-vwnd-925-2010-17  wind-vwnd-925-2010-18  wind-vwnd-925-2010-19  \\\n",
            "0                  28.09                 -13.50                  11.90   \n",
            "1                  27.41                 -23.77                  15.44   \n",
            "2                  19.21                 -33.16                  15.11   \n",
            "3                   8.29                 -37.22                  18.24   \n",
            "4                  -2.58                 -42.30                  21.91   \n",
            "\n",
            "   wind-vwnd-925-2010-20  \n",
            "0                   4.58  \n",
            "1                   3.42  \n",
            "2                   4.82  \n",
            "3                   9.74  \n",
            "4                  10.95  \n",
            "\n",
            "[5 rows x 246 columns]\n"
          ]
        }
      ]
    },
    {
      "cell_type": "markdown",
      "source": [
        "feature selection and target variables"
      ],
      "metadata": {
        "id": "haLhGsze59PI"
      }
    },
    {
      "cell_type": "code",
      "source": [
        "print(df.columns)"
      ],
      "metadata": {
        "colab": {
          "base_uri": "https://localhost:8080/"
        },
        "id": "v8GbAjNI6C09",
        "outputId": "fed43459-a6dc-4f45-bfb7-f3c0a3a612ce"
      },
      "execution_count": 8,
      "outputs": [
        {
          "output_type": "stream",
          "name": "stdout",
          "text": [
            "Index(['index', 'lat', 'lon', 'startdate',\n",
            "       'contest-pevpr-sfc-gauss-14d__pevpr', 'nmme0-tmp2m-34w__cancm30',\n",
            "       'nmme0-tmp2m-34w__cancm40', 'nmme0-tmp2m-34w__ccsm30',\n",
            "       'nmme0-tmp2m-34w__ccsm40', 'nmme0-tmp2m-34w__cfsv20',\n",
            "       ...\n",
            "       'wind-vwnd-925-2010-11', 'wind-vwnd-925-2010-12',\n",
            "       'wind-vwnd-925-2010-13', 'wind-vwnd-925-2010-14',\n",
            "       'wind-vwnd-925-2010-15', 'wind-vwnd-925-2010-16',\n",
            "       'wind-vwnd-925-2010-17', 'wind-vwnd-925-2010-18',\n",
            "       'wind-vwnd-925-2010-19', 'wind-vwnd-925-2010-20'],\n",
            "      dtype='object', length=246)\n"
          ]
        }
      ]
    },
    {
      "cell_type": "markdown",
      "source": [
        "setting target variables"
      ],
      "metadata": {
        "id": "GJxxEVOG6Sli"
      }
    },
    {
      "cell_type": "code",
      "source": [
        "# Define the target column (sub-seasonal temperature prediction)\n",
        "target_col = \"contest-tmp2m-14d__tmp2m\"\n",
        "\n",
        "# Drop unnecessary columns (Check and modify accordingly)\n",
        "drop_cols = ['index', 'startdate']  # 'startdate' is likely the date column\n",
        "\n",
        "# Define features and target\n",
        "X = df.drop(columns=[target_col] + drop_cols, errors='ignore')  # 'errors=ignore' prevents errors if column doesn't exist\n",
        "y = df[target_col]"
      ],
      "metadata": {
        "id": "iJUM6KZk6V5E"
      },
      "execution_count": 9,
      "outputs": []
    },
    {
      "cell_type": "code",
      "source": [
        "print(X.columns)  # Check the remaining features\n",
        "print(y.head())   # Check target variable"
      ],
      "metadata": {
        "colab": {
          "base_uri": "https://localhost:8080/"
        },
        "id": "HRpV6hcK6o9y",
        "outputId": "e7f29290-8438-41ba-bb41-2feea21f1b80"
      },
      "execution_count": 10,
      "outputs": [
        {
          "output_type": "stream",
          "name": "stdout",
          "text": [
            "Index(['lat', 'lon', 'contest-pevpr-sfc-gauss-14d__pevpr',\n",
            "       'nmme0-tmp2m-34w__cancm30', 'nmme0-tmp2m-34w__cancm40',\n",
            "       'nmme0-tmp2m-34w__ccsm30', 'nmme0-tmp2m-34w__ccsm40',\n",
            "       'nmme0-tmp2m-34w__cfsv20', 'nmme0-tmp2m-34w__gfdlflora0',\n",
            "       'nmme0-tmp2m-34w__gfdlflorb0',\n",
            "       ...\n",
            "       'wind-vwnd-925-2010-11', 'wind-vwnd-925-2010-12',\n",
            "       'wind-vwnd-925-2010-13', 'wind-vwnd-925-2010-14',\n",
            "       'wind-vwnd-925-2010-15', 'wind-vwnd-925-2010-16',\n",
            "       'wind-vwnd-925-2010-17', 'wind-vwnd-925-2010-18',\n",
            "       'wind-vwnd-925-2010-19', 'wind-vwnd-925-2010-20'],\n",
            "      dtype='object', length=243)\n",
            "0    28.744480\n",
            "1    28.370585\n",
            "2    28.133059\n",
            "3    28.256798\n",
            "4    28.372353\n",
            "Name: contest-tmp2m-14d__tmp2m, dtype: float64\n"
          ]
        }
      ]
    },
    {
      "cell_type": "markdown",
      "source": [
        "feature scalling"
      ],
      "metadata": {
        "id": "4ECZYVu66s3C"
      }
    },
    {
      "cell_type": "code",
      "source": [
        "print(X.dtypes)"
      ],
      "metadata": {
        "colab": {
          "base_uri": "https://localhost:8080/"
        },
        "id": "JJcgYT036w3Y",
        "outputId": "cbb0c796-abe6-499a-fc3d-300dee4ea744"
      },
      "execution_count": 11,
      "outputs": [
        {
          "output_type": "stream",
          "name": "stdout",
          "text": [
            "lat                                   float64\n",
            "lon                                   float64\n",
            "contest-pevpr-sfc-gauss-14d__pevpr    float64\n",
            "nmme0-tmp2m-34w__cancm30              float64\n",
            "nmme0-tmp2m-34w__cancm40              float64\n",
            "                                       ...   \n",
            "wind-vwnd-925-2010-16                 float64\n",
            "wind-vwnd-925-2010-17                 float64\n",
            "wind-vwnd-925-2010-18                 float64\n",
            "wind-vwnd-925-2010-19                 float64\n",
            "wind-vwnd-925-2010-20                 float64\n",
            "Length: 243, dtype: object\n"
          ]
        }
      ]
    },
    {
      "cell_type": "code",
      "source": [
        "# Convert categorical columns using One-Hot Encoding\n",
        "X = pd.get_dummies(X, drop_first=True)\n",
        "\n",
        "print(\"Dataset shape after encoding:\", X.shape)"
      ],
      "metadata": {
        "colab": {
          "base_uri": "https://localhost:8080/"
        },
        "id": "8jk5ClQT65pV",
        "outputId": "5cac8d67-bb06-4616-a01b-10e39a20b338"
      },
      "execution_count": 12,
      "outputs": [
        {
          "output_type": "stream",
          "name": "stdout",
          "text": [
            "Dataset shape after encoding: (375734, 256)\n"
          ]
        }
      ]
    },
    {
      "cell_type": "code",
      "source": [
        "from sklearn.preprocessing import StandardScaler\n",
        "\n",
        "# Initialize StandardScaler\n",
        "scaler = StandardScaler()\n",
        "\n",
        "# Fit and transform the dataset\n",
        "X_scaled = scaler.fit_transform(X)\n",
        "\n",
        "print(\"Scaling successful! Shape:\", X_scaled.shape)"
      ],
      "metadata": {
        "colab": {
          "base_uri": "https://localhost:8080/"
        },
        "id": "gc2hbVzv7H3n",
        "outputId": "83e216d4-08fc-4c80-cdbe-f46794785af5"
      },
      "execution_count": 13,
      "outputs": [
        {
          "output_type": "stream",
          "name": "stdout",
          "text": [
            "Scaling successful! Shape: (375734, 256)\n"
          ]
        }
      ]
    },
    {
      "cell_type": "markdown",
      "source": [
        "data splitting"
      ],
      "metadata": {
        "id": "Hsvqewmv7vIX"
      }
    },
    {
      "cell_type": "code",
      "source": [
        "from sklearn.model_selection import train_test_split\n",
        "\n",
        "# Split data into training and test sets\n",
        "X_train, X_test, y_train, y_test = train_test_split(X_scaled, y, test_size=0.2, random_state=42)\n",
        "\n",
        "# Reshape for LSTM (LSTM requires 3D input: samples, time steps, features)\n",
        "X_lstm_train = X_train.reshape((X_train.shape[0], 1, X_train.shape[1]))\n",
        "X_lstm_test = X_test.reshape((X_test.shape[0], 1, X_test.shape[1]))\n",
        "\n",
        "print(f\"XGBoost Input Shape: {X_train.shape}\")\n",
        "print(f\"LSTM Input Shape: {X_lstm_train.shape}\")"
      ],
      "metadata": {
        "colab": {
          "base_uri": "https://localhost:8080/"
        },
        "id": "d_qmRAvM7xzu",
        "outputId": "328fe7f1-8f1a-437a-c4ca-835657b41edb"
      },
      "execution_count": 14,
      "outputs": [
        {
          "output_type": "stream",
          "name": "stdout",
          "text": [
            "XGBoost Input Shape: (300587, 256)\n",
            "LSTM Input Shape: (300587, 1, 256)\n"
          ]
        }
      ]
    },
    {
      "cell_type": "markdown",
      "source": [
        "xgboost model training"
      ],
      "metadata": {
        "id": "CiQ5MpHu8E14"
      }
    },
    {
      "cell_type": "code",
      "source": [
        "import xgboost as xgb\n",
        "\n",
        "# Initialize XGBoost model\n",
        "xgb_model = xgb.XGBRegressor(n_estimators=300, max_depth=8, learning_rate=0.05, random_state=42)\n",
        "\n",
        "# Train the XGBoost model\n",
        "xgb_model.fit(X_train, y_train)\n",
        "\n",
        "# Predict using XGBoost\n",
        "xgb_preds = xgb_model.predict(X_test)\n",
        "\n",
        "print(\"XGBoost Training Completed ✅\")"
      ],
      "metadata": {
        "colab": {
          "base_uri": "https://localhost:8080/"
        },
        "id": "W47Uw51c8C55",
        "outputId": "dfb1a37e-09f6-450e-f2a4-8ae520f0810d"
      },
      "execution_count": 15,
      "outputs": [
        {
          "output_type": "stream",
          "name": "stdout",
          "text": [
            "XGBoost Training Completed ✅\n"
          ]
        }
      ]
    },
    {
      "cell_type": "markdown",
      "source": [
        "residual computing for LSTM"
      ],
      "metadata": {
        "id": "Tm9dE4_y-Go5"
      }
    },
    {
      "cell_type": "code",
      "source": [
        "# Compute residuals (actual - XGBoost prediction)\n",
        "residuals_train = y_train - xgb_model.predict(X_train)\n",
        "residuals_test = y_test - xgb_preds\n",
        "\n",
        "print(\"Residuals Computed ✅\")"
      ],
      "metadata": {
        "colab": {
          "base_uri": "https://localhost:8080/"
        },
        "id": "6WmuByrR-MOH",
        "outputId": "a9ba0cce-3660-488a-849a-78b4f21576f4"
      },
      "execution_count": 17,
      "outputs": [
        {
          "output_type": "stream",
          "name": "stdout",
          "text": [
            "Residuals Computed ✅\n"
          ]
        }
      ]
    },
    {
      "cell_type": "markdown",
      "source": [
        "LSTM training"
      ],
      "metadata": {
        "id": "8Z7XfyHs96Lu"
      }
    },
    {
      "cell_type": "code",
      "source": [
        "import tensorflow as tf\n",
        "from tensorflow.keras.models import Sequential\n",
        "from tensorflow.keras.layers import LSTM, Dense, Dropout\n",
        "\n",
        "# Define LSTM model\n",
        "lstm_model = Sequential([\n",
        "    LSTM(64, return_sequences=True, input_shape=(1, X_train.shape[1])),\n",
        "    Dropout(0.2),\n",
        "    LSTM(32),\n",
        "    Dense(1)\n",
        "])\n",
        "\n",
        "# Compile LSTM model\n",
        "lstm_model.compile(loss='mae', optimizer='adam')\n",
        "\n",
        "# Train the LSTM model\n",
        "lstm_model.fit(X_lstm_train, residuals_train, epochs=15, batch_size=32, validation_data=(X_lstm_test, residuals_test))\n",
        "\n",
        "print(\"LSTM Training Completed ✅\")"
      ],
      "metadata": {
        "colab": {
          "base_uri": "https://localhost:8080/"
        },
        "id": "mOpwYsbY99hD",
        "outputId": "96abfb41-deb8-4c80-d87c-5902b3cd5b9a"
      },
      "execution_count": 18,
      "outputs": [
        {
          "output_type": "stream",
          "name": "stdout",
          "text": [
            "Epoch 1/15\n",
            "\u001b[1m9394/9394\u001b[0m \u001b[32m━━━━━━━━━━━━━━━━━━━━\u001b[0m\u001b[37m\u001b[0m \u001b[1m64s\u001b[0m 6ms/step - loss: nan - val_loss: nan\n",
            "Epoch 2/15\n",
            "\u001b[1m9394/9394\u001b[0m \u001b[32m━━━━━━━━━━━━━━━━━━━━\u001b[0m\u001b[37m\u001b[0m \u001b[1m83s\u001b[0m 6ms/step - loss: nan - val_loss: nan\n",
            "Epoch 3/15\n",
            "\u001b[1m9394/9394\u001b[0m \u001b[32m━━━━━━━━━━━━━━━━━━━━\u001b[0m\u001b[37m\u001b[0m \u001b[1m85s\u001b[0m 7ms/step - loss: nan - val_loss: nan\n",
            "Epoch 4/15\n",
            "\u001b[1m9394/9394\u001b[0m \u001b[32m━━━━━━━━━━━━━━━━━━━━\u001b[0m\u001b[37m\u001b[0m \u001b[1m59s\u001b[0m 6ms/step - loss: nan - val_loss: nan\n",
            "Epoch 5/15\n",
            "\u001b[1m9394/9394\u001b[0m \u001b[32m━━━━━━━━━━━━━━━━━━━━\u001b[0m\u001b[37m\u001b[0m \u001b[1m59s\u001b[0m 6ms/step - loss: nan - val_loss: nan\n",
            "Epoch 6/15\n",
            "\u001b[1m9394/9394\u001b[0m \u001b[32m━━━━━━━━━━━━━━━━━━━━\u001b[0m\u001b[37m\u001b[0m \u001b[1m80s\u001b[0m 6ms/step - loss: nan - val_loss: nan\n",
            "Epoch 7/15\n",
            "\u001b[1m9394/9394\u001b[0m \u001b[32m━━━━━━━━━━━━━━━━━━━━\u001b[0m\u001b[37m\u001b[0m \u001b[1m56s\u001b[0m 6ms/step - loss: nan - val_loss: nan\n",
            "Epoch 8/15\n",
            "\u001b[1m9394/9394\u001b[0m \u001b[32m━━━━━━━━━━━━━━━━━━━━\u001b[0m\u001b[37m\u001b[0m \u001b[1m61s\u001b[0m 6ms/step - loss: nan - val_loss: nan\n",
            "Epoch 9/15\n",
            "\u001b[1m9394/9394\u001b[0m \u001b[32m━━━━━━━━━━━━━━━━━━━━\u001b[0m\u001b[37m\u001b[0m \u001b[1m57s\u001b[0m 6ms/step - loss: nan - val_loss: nan\n",
            "Epoch 10/15\n",
            "\u001b[1m9394/9394\u001b[0m \u001b[32m━━━━━━━━━━━━━━━━━━━━\u001b[0m\u001b[37m\u001b[0m \u001b[1m81s\u001b[0m 6ms/step - loss: nan - val_loss: nan\n",
            "Epoch 11/15\n",
            "\u001b[1m9394/9394\u001b[0m \u001b[32m━━━━━━━━━━━━━━━━━━━━\u001b[0m\u001b[37m\u001b[0m \u001b[1m56s\u001b[0m 6ms/step - loss: nan - val_loss: nan\n",
            "Epoch 12/15\n",
            "\u001b[1m9394/9394\u001b[0m \u001b[32m━━━━━━━━━━━━━━━━━━━━\u001b[0m\u001b[37m\u001b[0m \u001b[1m61s\u001b[0m 6ms/step - loss: nan - val_loss: nan\n",
            "Epoch 13/15\n",
            "\u001b[1m9394/9394\u001b[0m \u001b[32m━━━━━━━━━━━━━━━━━━━━\u001b[0m\u001b[37m\u001b[0m \u001b[1m80s\u001b[0m 6ms/step - loss: nan - val_loss: nan\n",
            "Epoch 14/15\n",
            "\u001b[1m9394/9394\u001b[0m \u001b[32m━━━━━━━━━━━━━━━━━━━━\u001b[0m\u001b[37m\u001b[0m \u001b[1m90s\u001b[0m 7ms/step - loss: nan - val_loss: nan\n",
            "Epoch 15/15\n",
            "\u001b[1m9394/9394\u001b[0m \u001b[32m━━━━━━━━━━━━━━━━━━━━\u001b[0m\u001b[37m\u001b[0m \u001b[1m63s\u001b[0m 7ms/step - loss: nan - val_loss: nan\n",
            "LSTM Training Completed ✅\n"
          ]
        }
      ]
    },
    {
      "cell_type": "markdown",
      "source": [
        "Now as in LSTM model traing the the output is showing and generating the nan values, we have to fix this before making predictions. we will now start debugging and find the features with nan . afterv that nan filling will be applied to fix this issue."
      ],
      "metadata": {
        "id": "4YeDkyk_CVZ1"
      }
    },
    {
      "cell_type": "markdown",
      "source": [
        "debugging"
      ],
      "metadata": {
        "id": "yRPmFwNjDAOl"
      }
    },
    {
      "cell_type": "code",
      "source": [
        "import numpy as np  # Add this line\n",
        "\n",
        "print(\"NaNs in X_lstm_train:\", np.isnan(X_lstm_train).sum())\n",
        "print(\"NaNs in residuals_train:\", np.isnan(residuals_train).sum())\n",
        "\n"
      ],
      "metadata": {
        "colab": {
          "base_uri": "https://localhost:8080/"
        },
        "id": "UKXZNevlDmRv",
        "outputId": "a0cd9657-c1a2-4944-ae7a-fa35a9e06f2f"
      },
      "execution_count": 21,
      "outputs": [
        {
          "output_type": "stream",
          "name": "stdout",
          "text": [
            "NaNs in X_lstm_train: 81376\n",
            "NaNs in residuals_train: 0\n"
          ]
        }
      ]
    },
    {
      "cell_type": "markdown",
      "source": [
        "list of features with nan values"
      ],
      "metadata": {
        "id": "iqjBqZnlEXR0"
      }
    },
    {
      "cell_type": "code",
      "source": [
        "print(\"Columns with NaNs in X_train:\")\n",
        "print(pd.DataFrame(X_train).isnull().sum()[pd.DataFrame(X_train).isnull().sum() > 0])"
      ],
      "metadata": {
        "colab": {
          "base_uri": "https://localhost:8080/"
        },
        "id": "EOZntpCeEcCc",
        "outputId": "8a671a3f-7797-4c08-e255-8c5a5ce452b3"
      },
      "execution_count": 22,
      "outputs": [
        {
          "output_type": "stream",
          "name": "stdout",
          "text": [
            "Columns with NaNs in X_train:\n",
            "5     12740\n",
            "16     8227\n",
            "27     6992\n",
            "38    12729\n",
            "48    12740\n",
            "60     8227\n",
            "72     6992\n",
            "88    12729\n",
            "dtype: int64\n"
          ]
        }
      ]
    },
    {
      "cell_type": "markdown",
      "source": [
        "now the above are the all of the features with the nan values. now using appropriate coding, nan filling will be done to avoid this issue again."
      ],
      "metadata": {
        "id": "3aIIOMtyEgpO"
      }
    },
    {
      "cell_type": "markdown",
      "source": [
        "nan filling"
      ],
      "metadata": {
        "id": "bBOwnrgUEt_r"
      }
    },
    {
      "cell_type": "code",
      "source": [
        "X_train = pd.DataFrame(X_train).fillna(X_train.mean())\n",
        "X_test = pd.DataFrame(X_test).fillna(X_test.mean())"
      ],
      "metadata": {
        "id": "qtZYgBafExK1"
      },
      "execution_count": 23,
      "outputs": []
    },
    {
      "cell_type": "markdown",
      "source": [
        "now before training the model again, its better to verify the errors fixing, so below is the error fixing verification"
      ],
      "metadata": {
        "id": "Tbab0O70E0f-"
      }
    },
    {
      "cell_type": "code",
      "source": [
        "print(\"NaNs in X_train after fixing:\", pd.DataFrame(X_train).isnull().sum().sum())\n",
        "print(\"NaNs in X_test after fixing:\", pd.DataFrame(X_test).isnull().sum().sum())"
      ],
      "metadata": {
        "colab": {
          "base_uri": "https://localhost:8080/"
        },
        "id": "fV9W-iFWFCYI",
        "outputId": "4512a6e7-7f2a-450b-d1d2-cec4ad2168e9"
      },
      "execution_count": 25,
      "outputs": [
        {
          "output_type": "stream",
          "name": "stdout",
          "text": [
            "NaNs in X_train after fixing: 0\n",
            "NaNs in X_test after fixing: 0\n"
          ]
        }
      ]
    },
    {
      "cell_type": "markdown",
      "source": [
        "now as you can see that the nan values are zero in both xtrain and xtest. now we will reshape the data according to LSTM inputs"
      ],
      "metadata": {
        "id": "_8C5vWeQFOyZ"
      }
    },
    {
      "cell_type": "markdown",
      "source": [
        "data reshapping for LSTM"
      ],
      "metadata": {
        "id": "GOX6bYC6Fp1V"
      }
    },
    {
      "cell_type": "code",
      "source": [
        "X_lstm_train = np.array(X_train).reshape((X_train.shape[0], 1, X_train.shape[1]))\n",
        "X_lstm_test = np.array(X_test).reshape((X_test.shape[0], 1, X_test.shape[1]))"
      ],
      "metadata": {
        "id": "OxXlYu5GFtU8"
      },
      "execution_count": 27,
      "outputs": []
    },
    {
      "cell_type": "code",
      "source": [
        "print(\"NaNs in X_lstm_train after fix:\", np.isnan(X_lstm_train).sum())"
      ],
      "metadata": {
        "colab": {
          "base_uri": "https://localhost:8080/"
        },
        "id": "hMeHTRmkF_Ox",
        "outputId": "2e977320-d57a-4879-db28-d34e053e596e"
      },
      "execution_count": 28,
      "outputs": [
        {
          "output_type": "stream",
          "name": "stdout",
          "text": [
            "NaNs in X_lstm_train after fix: 0\n"
          ]
        }
      ]
    },
    {
      "cell_type": "markdown",
      "source": [
        "now as the data is reshaped after nan filling now we will start the LSTM training again."
      ],
      "metadata": {
        "id": "6PS-unhPGBiP"
      }
    },
    {
      "cell_type": "markdown",
      "source": [
        "LSTM training on reshaped data"
      ],
      "metadata": {
        "id": "n3o_RvBSGOSL"
      }
    },
    {
      "cell_type": "code",
      "source": [
        "import tensorflow as tf\n",
        "from tensorflow.keras.models import Sequential\n",
        "from tensorflow.keras.layers import LSTM, Dense, Dropout\n",
        "from tensorflow.keras.optimizers import Adam\n",
        "\n",
        "# Define LSTM model\n",
        "lstm_model = Sequential([\n",
        "    LSTM(64, return_sequences=True, input_shape=(1, X_train.shape[1])),\n",
        "    Dropout(0.2),\n",
        "    LSTM(32),\n",
        "    Dense(1)\n",
        "])\n",
        "\n",
        "# Compile with lower learning rate\n",
        "lstm_model.compile(loss='mae', optimizer=Adam(learning_rate=0.001))\n",
        "\n",
        "# Train LSTM\n",
        "lstm_model.fit(X_lstm_train, residuals_train, epochs=15, batch_size=32, validation_data=(X_lstm_test, residuals_test))"
      ],
      "metadata": {
        "colab": {
          "base_uri": "https://localhost:8080/"
        },
        "id": "t_PeUNF-Gai2",
        "outputId": "67d93434-a40a-4a0a-92f8-a71e4c2a476d"
      },
      "execution_count": 29,
      "outputs": [
        {
          "output_type": "stream",
          "name": "stderr",
          "text": [
            "/usr/local/lib/python3.11/dist-packages/keras/src/layers/rnn/rnn.py:200: UserWarning: Do not pass an `input_shape`/`input_dim` argument to a layer. When using Sequential models, prefer using an `Input(shape)` object as the first layer in the model instead.\n",
            "  super().__init__(**kwargs)\n"
          ]
        },
        {
          "output_type": "stream",
          "name": "stdout",
          "text": [
            "Epoch 1/15\n",
            "\u001b[1m9394/9394\u001b[0m \u001b[32m━━━━━━━━━━━━━━━━━━━━\u001b[0m\u001b[37m\u001b[0m \u001b[1m65s\u001b[0m 6ms/step - loss: 0.3565 - val_loss: 0.3812\n",
            "Epoch 2/15\n",
            "\u001b[1m9394/9394\u001b[0m \u001b[32m━━━━━━━━━━━━━━━━━━━━\u001b[0m\u001b[37m\u001b[0m \u001b[1m59s\u001b[0m 6ms/step - loss: 0.3495 - val_loss: 0.3722\n",
            "Epoch 3/15\n",
            "\u001b[1m9394/9394\u001b[0m \u001b[32m━━━━━━━━━━━━━━━━━━━━\u001b[0m\u001b[37m\u001b[0m \u001b[1m83s\u001b[0m 6ms/step - loss: 0.3416 - val_loss: 0.3647\n",
            "Epoch 4/15\n",
            "\u001b[1m9394/9394\u001b[0m \u001b[32m━━━━━━━━━━━━━━━━━━━━\u001b[0m\u001b[37m\u001b[0m \u001b[1m81s\u001b[0m 6ms/step - loss: 0.3357 - val_loss: 0.3586\n",
            "Epoch 5/15\n",
            "\u001b[1m9394/9394\u001b[0m \u001b[32m━━━━━━━━━━━━━━━━━━━━\u001b[0m\u001b[37m\u001b[0m \u001b[1m58s\u001b[0m 6ms/step - loss: 0.3316 - val_loss: 0.3561\n",
            "Epoch 6/15\n",
            "\u001b[1m9394/9394\u001b[0m \u001b[32m━━━━━━━━━━━━━━━━━━━━\u001b[0m\u001b[37m\u001b[0m \u001b[1m56s\u001b[0m 6ms/step - loss: 0.3292 - val_loss: 0.3525\n",
            "Epoch 7/15\n",
            "\u001b[1m9394/9394\u001b[0m \u001b[32m━━━━━━━━━━━━━━━━━━━━\u001b[0m\u001b[37m\u001b[0m \u001b[1m81s\u001b[0m 6ms/step - loss: 0.3250 - val_loss: 0.3492\n",
            "Epoch 8/15\n",
            "\u001b[1m9394/9394\u001b[0m \u001b[32m━━━━━━━━━━━━━━━━━━━━\u001b[0m\u001b[37m\u001b[0m \u001b[1m60s\u001b[0m 6ms/step - loss: 0.3233 - val_loss: 0.3479\n",
            "Epoch 9/15\n",
            "\u001b[1m9394/9394\u001b[0m \u001b[32m━━━━━━━━━━━━━━━━━━━━\u001b[0m\u001b[37m\u001b[0m \u001b[1m81s\u001b[0m 6ms/step - loss: 0.3210 - val_loss: 0.3444\n",
            "Epoch 10/15\n",
            "\u001b[1m9394/9394\u001b[0m \u001b[32m━━━━━━━━━━━━━━━━━━━━\u001b[0m\u001b[37m\u001b[0m \u001b[1m55s\u001b[0m 6ms/step - loss: 0.3182 - val_loss: 0.3420\n",
            "Epoch 11/15\n",
            "\u001b[1m9394/9394\u001b[0m \u001b[32m━━━━━━━━━━━━━━━━━━━━\u001b[0m\u001b[37m\u001b[0m \u001b[1m82s\u001b[0m 6ms/step - loss: 0.3164 - val_loss: 0.3396\n",
            "Epoch 12/15\n",
            "\u001b[1m9394/9394\u001b[0m \u001b[32m━━━━━━━━━━━━━━━━━━━━\u001b[0m\u001b[37m\u001b[0m \u001b[1m59s\u001b[0m 6ms/step - loss: 0.3150 - val_loss: 0.3377\n",
            "Epoch 13/15\n",
            "\u001b[1m9394/9394\u001b[0m \u001b[32m━━━━━━━━━━━━━━━━━━━━\u001b[0m\u001b[37m\u001b[0m \u001b[1m56s\u001b[0m 6ms/step - loss: 0.3134 - val_loss: 0.3380\n",
            "Epoch 14/15\n",
            "\u001b[1m9394/9394\u001b[0m \u001b[32m━━━━━━━━━━━━━━━━━━━━\u001b[0m\u001b[37m\u001b[0m \u001b[1m85s\u001b[0m 6ms/step - loss: 0.3120 - val_loss: 0.3357\n",
            "Epoch 15/15\n",
            "\u001b[1m9394/9394\u001b[0m \u001b[32m━━━━━━━━━━━━━━━━━━━━\u001b[0m\u001b[37m\u001b[0m \u001b[1m58s\u001b[0m 6ms/step - loss: 0.3102 - val_loss: 0.3343\n"
          ]
        },
        {
          "output_type": "execute_result",
          "data": {
            "text/plain": [
              "<keras.src.callbacks.history.History at 0x7fdc8c2e7050>"
            ]
          },
          "metadata": {},
          "execution_count": 29
        }
      ]
    },
    {
      "cell_type": "markdown",
      "source": [
        "now both of the models eg xgboost and LSTM are trained successfully on the data"
      ],
      "metadata": {
        "id": "YXDHCtZQKk2J"
      }
    }
  ]
}