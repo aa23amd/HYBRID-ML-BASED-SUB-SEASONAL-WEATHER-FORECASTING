{
  "nbformat": 4,
  "nbformat_minor": 0,
  "metadata": {
    "colab": {
      "provenance": [],
      "authorship_tag": "ABX9TyP+m188dUz/KVXQLzLweTVa",
      "include_colab_link": true
    },
    "kernelspec": {
      "name": "python3",
      "display_name": "Python 3"
    },
    "language_info": {
      "name": "python"
    }
  },
  "cells": [
    {
      "cell_type": "markdown",
      "metadata": {
        "id": "view-in-github",
        "colab_type": "text"
      },
      "source": [
        "<a href=\"https://colab.research.google.com/github/aa23amd/HYBRID-ML-BASED-SUB-SEASONAL-WEATHER-FORECASTING/blob/main/Untitled12.ipynb\" target=\"_parent\"><img src=\"https://colab.research.google.com/assets/colab-badge.svg\" alt=\"Open In Colab\"/></a>"
      ]
    },
    {
      "cell_type": "markdown",
      "source": [
        "MOUNTING DRIVE"
      ],
      "metadata": {
        "id": "Gg2j6N4jGoRT"
      }
    },
    {
      "cell_type": "code",
      "execution_count": 1,
      "metadata": {
        "colab": {
          "base_uri": "https://localhost:8080/"
        },
        "id": "d4xmOsGxGks2",
        "outputId": "fb98c20c-7a3e-4c55-dea9-5c0785a9f3b7"
      },
      "outputs": [
        {
          "output_type": "stream",
          "name": "stdout",
          "text": [
            "Mounted at /content/drive\n"
          ]
        }
      ],
      "source": [
        "from google.colab import drive\n",
        "drive.mount('/content/drive')\n"
      ]
    },
    {
      "cell_type": "markdown",
      "source": [
        "LOADING AND PREPROCESSING THE DATA"
      ],
      "metadata": {
        "id": "34qxPHTQG7-q"
      }
    },
    {
      "cell_type": "code",
      "source": [
        "import pandas as pd\n",
        "!unzip -o \"/content/drive/MyDrive/train_data.csv.zip\" -d /content/\n",
        "\n",
        "# Update the path to your dataset on Drive.\n",
        "csv_path = \"/content/train_data.csv\"\n",
        "train_df = pd.read_csv(csv_path)\n",
        "print(\"Original train_df shape:\", train_df.shape)\n",
        "\n",
        "# Define your target column.\n",
        "target_column = 'contest-precip-14d__precip'\n",
        "\n",
        "# Drop non-numeric columns such as 'startdate' and 'climateregions__climateregion'\n",
        "cols_to_drop = ['startdate', 'climateregions__climateregion']\n",
        "train_df = train_df.drop(cols_to_drop, axis=1, errors='ignore')\n",
        "print(\"Columns after dropping unwanted ones:\", train_df.columns.tolist())\n"
      ],
      "metadata": {
        "colab": {
          "base_uri": "https://localhost:8080/"
        },
        "id": "sSAPvFAEG_Yy",
        "outputId": "7e3aaf67-7163-48a4-a714-71f98246c2d8"
      },
      "execution_count": 4,
      "outputs": [
        {
          "output_type": "stream",
          "name": "stdout",
          "text": [
            "Archive:  /content/drive/MyDrive/train_data.csv.zip\n",
            "  inflating: /content/train_data.csv  \n",
            "Original train_df shape: (375734, 246)\n",
            "Columns after dropping unwanted ones: ['index', 'lat', 'lon', 'contest-pevpr-sfc-gauss-14d__pevpr', 'nmme0-tmp2m-34w__cancm30', 'nmme0-tmp2m-34w__cancm40', 'nmme0-tmp2m-34w__ccsm30', 'nmme0-tmp2m-34w__ccsm40', 'nmme0-tmp2m-34w__cfsv20', 'nmme0-tmp2m-34w__gfdlflora0', 'nmme0-tmp2m-34w__gfdlflorb0', 'nmme0-tmp2m-34w__gfdl0', 'nmme0-tmp2m-34w__nasa0', 'nmme0-tmp2m-34w__nmme0mean', 'contest-wind-h10-14d__wind-hgt-10', 'nmme-tmp2m-56w__cancm3', 'nmme-tmp2m-56w__cancm4', 'nmme-tmp2m-56w__ccsm3', 'nmme-tmp2m-56w__ccsm4', 'nmme-tmp2m-56w__cfsv2', 'nmme-tmp2m-56w__gfdl', 'nmme-tmp2m-56w__gfdlflora', 'nmme-tmp2m-56w__gfdlflorb', 'nmme-tmp2m-56w__nasa', 'nmme-tmp2m-56w__nmmemean', 'contest-rhum-sig995-14d__rhum', 'nmme-prate-34w__cancm3', 'nmme-prate-34w__cancm4', 'nmme-prate-34w__ccsm3', 'nmme-prate-34w__ccsm4', 'nmme-prate-34w__cfsv2', 'nmme-prate-34w__gfdl', 'nmme-prate-34w__gfdlflora', 'nmme-prate-34w__gfdlflorb', 'nmme-prate-34w__nasa', 'nmme-prate-34w__nmmemean', 'contest-wind-h100-14d__wind-hgt-100', 'nmme0-prate-56w__cancm30', 'nmme0-prate-56w__cancm40', 'nmme0-prate-56w__ccsm30', 'nmme0-prate-56w__ccsm40', 'nmme0-prate-56w__cfsv20', 'nmme0-prate-56w__gfdlflora0', 'nmme0-prate-56w__gfdlflorb0', 'nmme0-prate-56w__gfdl0', 'nmme0-prate-56w__nasa0', 'nmme0-prate-56w__nmme0mean', 'nmme0-prate-34w__cancm30', 'nmme0-prate-34w__cancm40', 'nmme0-prate-34w__ccsm30', 'nmme0-prate-34w__ccsm40', 'nmme0-prate-34w__cfsv20', 'nmme0-prate-34w__gfdlflora0', 'nmme0-prate-34w__gfdlflorb0', 'nmme0-prate-34w__gfdl0', 'nmme0-prate-34w__nasa0', 'nmme0-prate-34w__nmme0mean', 'contest-tmp2m-14d__tmp2m', 'contest-slp-14d__slp', 'contest-wind-vwnd-925-14d__wind-vwnd-925', 'nmme-prate-56w__cancm3', 'nmme-prate-56w__cancm4', 'nmme-prate-56w__ccsm3', 'nmme-prate-56w__ccsm4', 'nmme-prate-56w__cfsv2', 'nmme-prate-56w__gfdl', 'nmme-prate-56w__gfdlflora', 'nmme-prate-56w__gfdlflorb', 'nmme-prate-56w__nasa', 'nmme-prate-56w__nmmemean', 'contest-pres-sfc-gauss-14d__pres', 'contest-wind-uwnd-250-14d__wind-uwnd-250', 'nmme-tmp2m-34w__cancm3', 'nmme-tmp2m-34w__cancm4', 'nmme-tmp2m-34w__ccsm3', 'nmme-tmp2m-34w__ccsm4', 'nmme-tmp2m-34w__cfsv2', 'nmme-tmp2m-34w__gfdl', 'nmme-tmp2m-34w__gfdlflora', 'nmme-tmp2m-34w__gfdlflorb', 'nmme-tmp2m-34w__nasa', 'nmme-tmp2m-34w__nmmemean', 'contest-prwtr-eatm-14d__prwtr', 'contest-wind-vwnd-250-14d__wind-vwnd-250', 'contest-precip-14d__precip', 'contest-wind-h850-14d__wind-hgt-850', 'contest-wind-uwnd-925-14d__wind-uwnd-925', 'contest-wind-h500-14d__wind-hgt-500', 'cancm30', 'cancm40', 'ccsm30', 'ccsm40', 'cfsv20', 'gfdlflora0', 'gfdlflorb0', 'gfdl0', 'nasa0', 'nmme0mean', 'elevation__elevation', 'wind-vwnd-250-2010-1', 'wind-vwnd-250-2010-2', 'wind-vwnd-250-2010-3', 'wind-vwnd-250-2010-4', 'wind-vwnd-250-2010-5', 'wind-vwnd-250-2010-6', 'wind-vwnd-250-2010-7', 'wind-vwnd-250-2010-8', 'wind-vwnd-250-2010-9', 'wind-vwnd-250-2010-10', 'wind-vwnd-250-2010-11', 'wind-vwnd-250-2010-12', 'wind-vwnd-250-2010-13', 'wind-vwnd-250-2010-14', 'wind-vwnd-250-2010-15', 'wind-vwnd-250-2010-16', 'wind-vwnd-250-2010-17', 'wind-vwnd-250-2010-18', 'wind-vwnd-250-2010-19', 'wind-vwnd-250-2010-20', 'wind-uwnd-250-2010-1', 'wind-uwnd-250-2010-2', 'wind-uwnd-250-2010-3', 'wind-uwnd-250-2010-4', 'wind-uwnd-250-2010-5', 'wind-uwnd-250-2010-6', 'wind-uwnd-250-2010-7', 'wind-uwnd-250-2010-8', 'wind-uwnd-250-2010-9', 'wind-uwnd-250-2010-10', 'wind-uwnd-250-2010-11', 'wind-uwnd-250-2010-12', 'wind-uwnd-250-2010-13', 'wind-uwnd-250-2010-14', 'wind-uwnd-250-2010-15', 'wind-uwnd-250-2010-16', 'wind-uwnd-250-2010-17', 'wind-uwnd-250-2010-18', 'wind-uwnd-250-2010-19', 'wind-uwnd-250-2010-20', 'mjo1d__phase', 'mjo1d__amplitude', 'mei__mei', 'mei__meirank', 'mei__nip', 'wind-hgt-850-2010-1', 'wind-hgt-850-2010-2', 'wind-hgt-850-2010-3', 'wind-hgt-850-2010-4', 'wind-hgt-850-2010-5', 'wind-hgt-850-2010-6', 'wind-hgt-850-2010-7', 'wind-hgt-850-2010-8', 'wind-hgt-850-2010-9', 'wind-hgt-850-2010-10', 'sst-2010-1', 'sst-2010-2', 'sst-2010-3', 'sst-2010-4', 'sst-2010-5', 'sst-2010-6', 'sst-2010-7', 'sst-2010-8', 'sst-2010-9', 'sst-2010-10', 'wind-hgt-500-2010-1', 'wind-hgt-500-2010-2', 'wind-hgt-500-2010-3', 'wind-hgt-500-2010-4', 'wind-hgt-500-2010-5', 'wind-hgt-500-2010-6', 'wind-hgt-500-2010-7', 'wind-hgt-500-2010-8', 'wind-hgt-500-2010-9', 'wind-hgt-500-2010-10', 'icec-2010-1', 'icec-2010-2', 'icec-2010-3', 'icec-2010-4', 'icec-2010-5', 'icec-2010-6', 'icec-2010-7', 'icec-2010-8', 'icec-2010-9', 'icec-2010-10', 'wind-uwnd-925-2010-1', 'wind-uwnd-925-2010-2', 'wind-uwnd-925-2010-3', 'wind-uwnd-925-2010-4', 'wind-uwnd-925-2010-5', 'wind-uwnd-925-2010-6', 'wind-uwnd-925-2010-7', 'wind-uwnd-925-2010-8', 'wind-uwnd-925-2010-9', 'wind-uwnd-925-2010-10', 'wind-uwnd-925-2010-11', 'wind-uwnd-925-2010-12', 'wind-uwnd-925-2010-13', 'wind-uwnd-925-2010-14', 'wind-uwnd-925-2010-15', 'wind-uwnd-925-2010-16', 'wind-uwnd-925-2010-17', 'wind-uwnd-925-2010-18', 'wind-uwnd-925-2010-19', 'wind-uwnd-925-2010-20', 'wind-hgt-10-2010-1', 'wind-hgt-10-2010-2', 'wind-hgt-10-2010-3', 'wind-hgt-10-2010-4', 'wind-hgt-10-2010-5', 'wind-hgt-10-2010-6', 'wind-hgt-10-2010-7', 'wind-hgt-10-2010-8', 'wind-hgt-10-2010-9', 'wind-hgt-10-2010-10', 'wind-hgt-100-2010-1', 'wind-hgt-100-2010-2', 'wind-hgt-100-2010-3', 'wind-hgt-100-2010-4', 'wind-hgt-100-2010-5', 'wind-hgt-100-2010-6', 'wind-hgt-100-2010-7', 'wind-hgt-100-2010-8', 'wind-hgt-100-2010-9', 'wind-hgt-100-2010-10', 'wind-vwnd-925-2010-1', 'wind-vwnd-925-2010-2', 'wind-vwnd-925-2010-3', 'wind-vwnd-925-2010-4', 'wind-vwnd-925-2010-5', 'wind-vwnd-925-2010-6', 'wind-vwnd-925-2010-7', 'wind-vwnd-925-2010-8', 'wind-vwnd-925-2010-9', 'wind-vwnd-925-2010-10', 'wind-vwnd-925-2010-11', 'wind-vwnd-925-2010-12', 'wind-vwnd-925-2010-13', 'wind-vwnd-925-2010-14', 'wind-vwnd-925-2010-15', 'wind-vwnd-925-2010-16', 'wind-vwnd-925-2010-17', 'wind-vwnd-925-2010-18', 'wind-vwnd-925-2010-19', 'wind-vwnd-925-2010-20']\n"
          ]
        }
      ]
    },
    {
      "cell_type": "markdown",
      "source": [
        "handling missing values"
      ],
      "metadata": {
        "id": "PCPS9iTCIMLU"
      }
    },
    {
      "cell_type": "code",
      "source": [
        "# Separate features and target.\n",
        "features_df = train_df.drop(target_column, axis=1)\n",
        "target_series = train_df[target_column]\n",
        "\n",
        "# Check for missing values.\n",
        "print(\"Missing values in features:\\n\", features_df.isnull().sum().sort_values(ascending=False).head(10))\n",
        "print(\"Missing values in target:\", target_series.isnull().sum())\n",
        "\n",
        "# Impute missing values in features with the median.\n",
        "features_df = features_df.fillna(features_df.median())\n",
        "\n",
        "# Drop rows where the target is missing.\n",
        "mask = target_series.notnull()\n",
        "features_df = features_df[mask]\n",
        "target_series = target_series[mask]\n",
        "\n",
        "# Convert any non-numeric columns to numeric (if any) and fill new NaNs.\n",
        "features_df = features_df.apply(pd.to_numeric, errors='coerce')\n",
        "features_df = features_df.fillna(features_df.median())\n",
        "\n",
        "# Verify that there are no missing values.\n",
        "assert not features_df.isnull().any().any(), \"Missing values remain in features!\"\n",
        "assert not target_series.isnull().any(), \"Missing values remain in target!\"\n",
        "\n",
        "print(\"Data cleaned. Features shape:\", features_df.shape)\n"
      ],
      "metadata": {
        "colab": {
          "base_uri": "https://localhost:8080/"
        },
        "id": "Re6-70XYIPGi",
        "outputId": "a8f11be2-efb4-4b03-a1f7-b4ab74ae6a64"
      },
      "execution_count": 5,
      "outputs": [
        {
          "output_type": "stream",
          "name": "stdout",
          "text": [
            "Missing values in features:\n",
            " nmme0-tmp2m-34w__ccsm30    15934\n",
            "nmme0-prate-56w__ccsm30    15934\n",
            "nmme0-prate-34w__ccsm30    15934\n",
            "ccsm30                     15934\n",
            "nmme-tmp2m-56w__ccsm3      10280\n",
            "nmme-prate-56w__ccsm3      10280\n",
            "nmme-prate-34w__ccsm3       8738\n",
            "nmme-tmp2m-34w__ccsm3       8738\n",
            "nmme0-tmp2m-34w__ccsm40        0\n",
            "lon                            0\n",
            "dtype: int64\n",
            "Missing values in target: 0\n",
            "Data cleaned. Features shape: (375734, 243)\n"
          ]
        }
      ]
    },
    {
      "cell_type": "markdown",
      "source": [
        "feature scaling"
      ],
      "metadata": {
        "id": "mWLwl94kIV23"
      }
    },
    {
      "cell_type": "code",
      "source": [
        "from sklearn.preprocessing import StandardScaler\n",
        "\n",
        "scaler = StandardScaler()\n",
        "features_scaled = pd.DataFrame(scaler.fit_transform(features_df), columns=features_df.columns)\n",
        "print(\"Features scaled. Sample data:\")\n",
        "print(features_scaled.head())\n"
      ],
      "metadata": {
        "colab": {
          "base_uri": "https://localhost:8080/"
        },
        "id": "RvN7eTaVIYLr",
        "outputId": "3fa59ed6-1f04-4639-8e53-e2bf9da3ac21"
      },
      "execution_count": 6,
      "outputs": [
        {
          "output_type": "stream",
          "name": "stdout",
          "text": [
            "Features scaled. Sample data:\n",
            "      index       lat       lon  contest-pevpr-sfc-gauss-14d__pevpr  \\\n",
            "0 -1.732046 -2.354642  1.159198                           -0.200642   \n",
            "1 -1.732037 -2.354642  1.159198                           -0.241533   \n",
            "2 -1.732028 -2.354642  1.159198                           -0.282980   \n",
            "3 -1.732019 -2.354642  1.159198                           -0.259808   \n",
            "4 -1.732009 -2.354642  1.159198                           -0.199430   \n",
            "\n",
            "   nmme0-tmp2m-34w__cancm30  nmme0-tmp2m-34w__cancm40  \\\n",
            "0                  1.663408                  1.707969   \n",
            "1                  1.663408                  1.707969   \n",
            "2                  1.663408                  1.707969   \n",
            "3                  1.663408                  1.707969   \n",
            "4                  1.663408                  1.707969   \n",
            "\n",
            "   nmme0-tmp2m-34w__ccsm30  nmme0-tmp2m-34w__ccsm40  nmme0-tmp2m-34w__cfsv20  \\\n",
            "0                 1.926773                 1.805495                 2.018001   \n",
            "1                 1.926773                 1.805495                 2.018001   \n",
            "2                 1.926773                 1.805495                 2.018001   \n",
            "3                 1.926773                 1.805495                 2.018001   \n",
            "4                 1.926773                 1.805495                 2.018001   \n",
            "\n",
            "   nmme0-tmp2m-34w__gfdlflora0  ...  wind-vwnd-925-2010-11  \\\n",
            "0                     1.847282  ...              -0.709324   \n",
            "1                     1.847282  ...              -0.533802   \n",
            "2                     1.847282  ...              -0.254843   \n",
            "3                     1.847282  ...               0.041267   \n",
            "4                     1.847282  ...               0.295840   \n",
            "\n",
            "   wind-vwnd-925-2010-12  wind-vwnd-925-2010-13  wind-vwnd-925-2010-14  \\\n",
            "0              -0.803837               0.039505              -0.383256   \n",
            "1              -0.786158               0.051206               0.075846   \n",
            "2              -0.719587               0.004923               0.510431   \n",
            "3              -0.633402              -0.016399               0.807009   \n",
            "4              -0.654396               0.017403               0.765883   \n",
            "\n",
            "   wind-vwnd-925-2010-15  wind-vwnd-925-2010-16  wind-vwnd-925-2010-17  \\\n",
            "0               0.490428               1.696985               1.268815   \n",
            "1               0.692953               1.710742               1.243677   \n",
            "2               0.710795               1.708693               0.940538   \n",
            "3               0.509836               1.768989               0.536846   \n",
            "4               0.390887               1.890167               0.135002   \n",
            "\n",
            "   wind-vwnd-925-2010-18  wind-vwnd-925-2010-19  wind-vwnd-925-2010-20  \n",
            "0              -1.141869               0.056244              -0.267443  \n",
            "1              -1.539201               0.197446              -0.313633  \n",
            "2              -1.902486               0.184283              -0.257886  \n",
            "3              -2.059562               0.309132              -0.061973  \n",
            "4              -2.256100               0.455519              -0.013791  \n",
            "\n",
            "[5 rows x 243 columns]\n"
          ]
        }
      ]
    },
    {
      "cell_type": "markdown",
      "source": [
        "Create a tf.data.Dataset for Sequence Generation"
      ],
      "metadata": {
        "id": "cr65jmDUIlOk"
      }
    },
    {
      "cell_type": "code",
      "source": [
        "import numpy as np\n",
        "import tensorflow as tf\n",
        "\n",
        "def create_sequences(X, y, sequence_length):\n",
        "    \"\"\"\n",
        "    Generator that yields (sequence, target) pairs.\n",
        "    Each sequence is a window of `sequence_length` consecutive rows.\n",
        "    \"\"\"\n",
        "    X_array = X.values.astype(np.float32)\n",
        "    y_array = y.values.astype(np.float32)\n",
        "    for i in range(len(X_array) - sequence_length):\n",
        "        yield X_array[i:i+sequence_length], y_array[i+sequence_length]\n",
        "\n",
        "# Define sequence parameters.\n",
        "sequence_length = 10  # Number of time steps per sequence\n",
        "batch_size = 32\n",
        "\n",
        "# Create a tf.data.Dataset from the generator.\n",
        "dataset = tf.data.Dataset.from_generator(\n",
        "    lambda: create_sequences(features_scaled, target_series, sequence_length),\n",
        "    output_signature=(\n",
        "        tf.TensorSpec(shape=(sequence_length, features_scaled.shape[1]), dtype=tf.float32),\n",
        "        tf.TensorSpec(shape=(), dtype=tf.float32)\n",
        "    )\n",
        ")\n",
        "\n",
        "# Optimize the dataset: repeat, batch, cache, and prefetch.\n",
        "dataset = dataset.repeat().batch(batch_size).cache().prefetch(tf.data.AUTOTUNE)\n",
        "\n",
        "# Calculate steps per epoch.\n",
        "steps_per_epoch = (len(features_scaled) - sequence_length) // batch_size\n",
        "print(\"Steps per epoch:\", steps_per_epoch)\n"
      ],
      "metadata": {
        "colab": {
          "base_uri": "https://localhost:8080/"
        },
        "id": "SugnvQjqImKq",
        "outputId": "701d7d4b-3aeb-4120-fb12-96f19cd0b3c9"
      },
      "execution_count": 7,
      "outputs": [
        {
          "output_type": "stream",
          "name": "stdout",
          "text": [
            "Steps per epoch: 11741\n"
          ]
        }
      ]
    },
    {
      "cell_type": "markdown",
      "source": [
        "Build and Compile the LSTM Model"
      ],
      "metadata": {
        "id": "Y9RWRZqAIwdE"
      }
    },
    {
      "cell_type": "code",
      "source": [
        "from tensorflow.keras.models import Sequential\n",
        "from tensorflow.keras.layers import Input, LSTM, Dense, Dropout\n",
        "from tensorflow.keras.optimizers import Adam\n",
        "\n",
        "n_features = features_scaled.shape[1]  # Number of features per time step\n",
        "\n",
        "model = Sequential([\n",
        "    Input(shape=(sequence_length, n_features)),\n",
        "    LSTM(50, activation='tanh'),\n",
        "    Dropout(0.2),\n",
        "    Dense(1)\n",
        "])\n",
        "\n",
        "# Compile the model.\n",
        "optimizer = Adam(learning_rate=1e-4, clipnorm=1.0)\n",
        "model.compile(optimizer=optimizer, loss='mse')\n",
        "model.summary()\n"
      ],
      "metadata": {
        "colab": {
          "base_uri": "https://localhost:8080/",
          "height": 232
        },
        "id": "Pcrwjf9SIxxO",
        "outputId": "6e738211-2858-4494-8f7c-f9bb0825c501"
      },
      "execution_count": 8,
      "outputs": [
        {
          "output_type": "display_data",
          "data": {
            "text/plain": [
              "\u001b[1mModel: \"sequential\"\u001b[0m\n"
            ],
            "text/html": [
              "<pre style=\"white-space:pre;overflow-x:auto;line-height:normal;font-family:Menlo,'DejaVu Sans Mono',consolas,'Courier New',monospace\"><span style=\"font-weight: bold\">Model: \"sequential\"</span>\n",
              "</pre>\n"
            ]
          },
          "metadata": {}
        },
        {
          "output_type": "display_data",
          "data": {
            "text/plain": [
              "┏━━━━━━━━━━━━━━━━━━━━━━━━━━━━━━━━━━━━━━┳━━━━━━━━━━━━━━━━━━━━━━━━━━━━━┳━━━━━━━━━━━━━━━━━┓\n",
              "┃\u001b[1m \u001b[0m\u001b[1mLayer (type)                        \u001b[0m\u001b[1m \u001b[0m┃\u001b[1m \u001b[0m\u001b[1mOutput Shape               \u001b[0m\u001b[1m \u001b[0m┃\u001b[1m \u001b[0m\u001b[1m        Param #\u001b[0m\u001b[1m \u001b[0m┃\n",
              "┡━━━━━━━━━━━━━━━━━━━━━━━━━━━━━━━━━━━━━━╇━━━━━━━━━━━━━━━━━━━━━━━━━━━━━╇━━━━━━━━━━━━━━━━━┩\n",
              "│ lstm (\u001b[38;5;33mLSTM\u001b[0m)                          │ (\u001b[38;5;45mNone\u001b[0m, \u001b[38;5;34m50\u001b[0m)                  │          \u001b[38;5;34m58,800\u001b[0m │\n",
              "├──────────────────────────────────────┼─────────────────────────────┼─────────────────┤\n",
              "│ dropout (\u001b[38;5;33mDropout\u001b[0m)                    │ (\u001b[38;5;45mNone\u001b[0m, \u001b[38;5;34m50\u001b[0m)                  │               \u001b[38;5;34m0\u001b[0m │\n",
              "├──────────────────────────────────────┼─────────────────────────────┼─────────────────┤\n",
              "│ dense (\u001b[38;5;33mDense\u001b[0m)                        │ (\u001b[38;5;45mNone\u001b[0m, \u001b[38;5;34m1\u001b[0m)                   │              \u001b[38;5;34m51\u001b[0m │\n",
              "└──────────────────────────────────────┴─────────────────────────────┴─────────────────┘\n"
            ],
            "text/html": [
              "<pre style=\"white-space:pre;overflow-x:auto;line-height:normal;font-family:Menlo,'DejaVu Sans Mono',consolas,'Courier New',monospace\">┏━━━━━━━━━━━━━━━━━━━━━━━━━━━━━━━━━━━━━━┳━━━━━━━━━━━━━━━━━━━━━━━━━━━━━┳━━━━━━━━━━━━━━━━━┓\n",
              "┃<span style=\"font-weight: bold\"> Layer (type)                         </span>┃<span style=\"font-weight: bold\"> Output Shape                </span>┃<span style=\"font-weight: bold\">         Param # </span>┃\n",
              "┡━━━━━━━━━━━━━━━━━━━━━━━━━━━━━━━━━━━━━━╇━━━━━━━━━━━━━━━━━━━━━━━━━━━━━╇━━━━━━━━━━━━━━━━━┩\n",
              "│ lstm (<span style=\"color: #0087ff; text-decoration-color: #0087ff\">LSTM</span>)                          │ (<span style=\"color: #00d7ff; text-decoration-color: #00d7ff\">None</span>, <span style=\"color: #00af00; text-decoration-color: #00af00\">50</span>)                  │          <span style=\"color: #00af00; text-decoration-color: #00af00\">58,800</span> │\n",
              "├──────────────────────────────────────┼─────────────────────────────┼─────────────────┤\n",
              "│ dropout (<span style=\"color: #0087ff; text-decoration-color: #0087ff\">Dropout</span>)                    │ (<span style=\"color: #00d7ff; text-decoration-color: #00d7ff\">None</span>, <span style=\"color: #00af00; text-decoration-color: #00af00\">50</span>)                  │               <span style=\"color: #00af00; text-decoration-color: #00af00\">0</span> │\n",
              "├──────────────────────────────────────┼─────────────────────────────┼─────────────────┤\n",
              "│ dense (<span style=\"color: #0087ff; text-decoration-color: #0087ff\">Dense</span>)                        │ (<span style=\"color: #00d7ff; text-decoration-color: #00d7ff\">None</span>, <span style=\"color: #00af00; text-decoration-color: #00af00\">1</span>)                   │              <span style=\"color: #00af00; text-decoration-color: #00af00\">51</span> │\n",
              "└──────────────────────────────────────┴─────────────────────────────┴─────────────────┘\n",
              "</pre>\n"
            ]
          },
          "metadata": {}
        },
        {
          "output_type": "display_data",
          "data": {
            "text/plain": [
              "\u001b[1m Total params: \u001b[0m\u001b[38;5;34m58,851\u001b[0m (229.89 KB)\n"
            ],
            "text/html": [
              "<pre style=\"white-space:pre;overflow-x:auto;line-height:normal;font-family:Menlo,'DejaVu Sans Mono',consolas,'Courier New',monospace\"><span style=\"font-weight: bold\"> Total params: </span><span style=\"color: #00af00; text-decoration-color: #00af00\">58,851</span> (229.89 KB)\n",
              "</pre>\n"
            ]
          },
          "metadata": {}
        },
        {
          "output_type": "display_data",
          "data": {
            "text/plain": [
              "\u001b[1m Trainable params: \u001b[0m\u001b[38;5;34m58,851\u001b[0m (229.89 KB)\n"
            ],
            "text/html": [
              "<pre style=\"white-space:pre;overflow-x:auto;line-height:normal;font-family:Menlo,'DejaVu Sans Mono',consolas,'Courier New',monospace\"><span style=\"font-weight: bold\"> Trainable params: </span><span style=\"color: #00af00; text-decoration-color: #00af00\">58,851</span> (229.89 KB)\n",
              "</pre>\n"
            ]
          },
          "metadata": {}
        },
        {
          "output_type": "display_data",
          "data": {
            "text/plain": [
              "\u001b[1m Non-trainable params: \u001b[0m\u001b[38;5;34m0\u001b[0m (0.00 B)\n"
            ],
            "text/html": [
              "<pre style=\"white-space:pre;overflow-x:auto;line-height:normal;font-family:Menlo,'DejaVu Sans Mono',consolas,'Courier New',monospace\"><span style=\"font-weight: bold\"> Non-trainable params: </span><span style=\"color: #00af00; text-decoration-color: #00af00\">0</span> (0.00 B)\n",
              "</pre>\n"
            ]
          },
          "metadata": {}
        }
      ]
    },
    {
      "cell_type": "markdown",
      "source": [
        "traing the model LSTM"
      ],
      "metadata": {
        "id": "VkQDQL4PJeMo"
      }
    },
    {
      "cell_type": "code",
      "source": [
        "# ----- Ensure Model and Dataset are Defined -----\n",
        "\n",
        "# For example, if you haven't defined the model yet, here's a sample:\n",
        "import tensorflow as tf\n",
        "from tensorflow.keras.models import Sequential\n",
        "from tensorflow.keras.layers import Input, LSTM, Dense, Dropout\n",
        "from tensorflow.keras.optimizers import Adam\n",
        "\n",
        "# Dummy parameters (replace these with your actual parameters)\n",
        "sequence_length = 10\n",
        "n_features = 243  # replace with your actual number of features\n",
        "steps_per_epoch = 5000  # replace with your computed steps_per_epoch\n",
        "\n",
        "# Build a simple LSTM model (use your actual model code here)\n",
        "model = Sequential([\n",
        "    Input(shape=(sequence_length, n_features)),\n",
        "    LSTM(50, activation='tanh'),\n",
        "    Dropout(0.2),\n",
        "    Dense(1)\n",
        "])\n",
        "optimizer = Adam(learning_rate=1e-4, clipnorm=1.0)\n",
        "model.compile(optimizer=optimizer, loss='mse')\n",
        "model.summary()\n",
        "\n",
        "# Assume your dataset is already defined as 'dataset'\n",
        "# For demonstration, here's a dummy dataset (replace with your actual dataset)\n",
        "import numpy as np\n",
        "def dummy_sequence_generator():\n",
        "    while True:\n",
        "        X = np.random.rand(sequence_length, n_features).astype(np.float32)\n",
        "        y = np.random.rand(1).astype(np.float32)[0]\n",
        "        yield X, y\n",
        "dataset = tf.data.Dataset.from_generator(\n",
        "    dummy_sequence_generator,\n",
        "    output_signature=(\n",
        "        tf.TensorSpec(shape=(sequence_length, n_features), dtype=tf.float32),\n",
        "        tf.TensorSpec(shape=(), dtype=tf.float32)\n",
        "    )\n",
        ")\n",
        "dataset = dataset.batch(32).prefetch(tf.data.AUTOTUNE)\n",
        "\n",
        "# ----- Incremental Training Loop -----\n",
        "total_epochs = 20\n",
        "increment = 2\n",
        "\n",
        "for start in range(0, total_epochs, increment):\n",
        "    print(f\"\\nTraining epochs {start+1} to {start+increment}\")\n",
        "    history = model.fit(\n",
        "        dataset,\n",
        "        epochs=start + increment,\n",
        "        initial_epoch=start,\n",
        "        steps_per_epoch=steps_per_epoch\n",
        "    )\n",
        "    model.save('/content/my_model.keras')\n"
      ],
      "metadata": {
        "colab": {
          "base_uri": "https://localhost:8080/",
          "height": 1000
        },
        "id": "4tC9zn7bPvF9",
        "outputId": "e966faa3-f20c-405d-ffcf-44a313813c56"
      },
      "execution_count": 3,
      "outputs": [
        {
          "data": {
            "text/html": [
              "<pre style=\"white-space:pre;overflow-x:auto;line-height:normal;font-family:Menlo,'DejaVu Sans Mono',consolas,'Courier New',monospace\"><span style=\"font-weight: bold\">Model: \"sequential_2\"</span>\n",
              "</pre>\n"
            ],
            "text/plain": [
              "\u001b[1mModel: \"sequential_2\"\u001b[0m\n"
            ]
          },
          "metadata": {},
          "output_type": "display_data"
        },
        {
          "data": {
            "text/html": [
              "<pre style=\"white-space:pre;overflow-x:auto;line-height:normal;font-family:Menlo,'DejaVu Sans Mono',consolas,'Courier New',monospace\">┏━━━━━━━━━━━━━━━━━━━━━━━━━━━━━━━━━━━━━━┳━━━━━━━━━━━━━━━━━━━━━━━━━━━━━┳━━━━━━━━━━━━━━━━━┓\n",
              "┃<span style=\"font-weight: bold\"> Layer (type)                         </span>┃<span style=\"font-weight: bold\"> Output Shape                </span>┃<span style=\"font-weight: bold\">         Param # </span>┃\n",
              "┡━━━━━━━━━━━━━━━━━━━━━━━━━━━━━━━━━━━━━━╇━━━━━━━━━━━━━━━━━━━━━━━━━━━━━╇━━━━━━━━━━━━━━━━━┩\n",
              "│ lstm_2 (<span style=\"color: #0087ff; text-decoration-color: #0087ff\">LSTM</span>)                        │ (<span style=\"color: #00d7ff; text-decoration-color: #00d7ff\">None</span>, <span style=\"color: #00af00; text-decoration-color: #00af00\">50</span>)                  │          <span style=\"color: #00af00; text-decoration-color: #00af00\">58,800</span> │\n",
              "├──────────────────────────────────────┼─────────────────────────────┼─────────────────┤\n",
              "│ dropout_2 (<span style=\"color: #0087ff; text-decoration-color: #0087ff\">Dropout</span>)                  │ (<span style=\"color: #00d7ff; text-decoration-color: #00d7ff\">None</span>, <span style=\"color: #00af00; text-decoration-color: #00af00\">50</span>)                  │               <span style=\"color: #00af00; text-decoration-color: #00af00\">0</span> │\n",
              "├──────────────────────────────────────┼─────────────────────────────┼─────────────────┤\n",
              "│ dense_2 (<span style=\"color: #0087ff; text-decoration-color: #0087ff\">Dense</span>)                      │ (<span style=\"color: #00d7ff; text-decoration-color: #00d7ff\">None</span>, <span style=\"color: #00af00; text-decoration-color: #00af00\">1</span>)                   │              <span style=\"color: #00af00; text-decoration-color: #00af00\">51</span> │\n",
              "└──────────────────────────────────────┴─────────────────────────────┴─────────────────┘\n",
              "</pre>\n"
            ],
            "text/plain": [
              "┏━━━━━━━━━━━━━━━━━━━━━━━━━━━━━━━━━━━━━━┳━━━━━━━━━━━━━━━━━━━━━━━━━━━━━┳━━━━━━━━━━━━━━━━━┓\n",
              "┃\u001b[1m \u001b[0m\u001b[1mLayer (type)                        \u001b[0m\u001b[1m \u001b[0m┃\u001b[1m \u001b[0m\u001b[1mOutput Shape               \u001b[0m\u001b[1m \u001b[0m┃\u001b[1m \u001b[0m\u001b[1m        Param #\u001b[0m\u001b[1m \u001b[0m┃\n",
              "┡━━━━━━━━━━━━━━━━━━━━━━━━━━━━━━━━━━━━━━╇━━━━━━━━━━━━━━━━━━━━━━━━━━━━━╇━━━━━━━━━━━━━━━━━┩\n",
              "│ lstm_2 (\u001b[38;5;33mLSTM\u001b[0m)                        │ (\u001b[38;5;45mNone\u001b[0m, \u001b[38;5;34m50\u001b[0m)                  │          \u001b[38;5;34m58,800\u001b[0m │\n",
              "├──────────────────────────────────────┼─────────────────────────────┼─────────────────┤\n",
              "│ dropout_2 (\u001b[38;5;33mDropout\u001b[0m)                  │ (\u001b[38;5;45mNone\u001b[0m, \u001b[38;5;34m50\u001b[0m)                  │               \u001b[38;5;34m0\u001b[0m │\n",
              "├──────────────────────────────────────┼─────────────────────────────┼─────────────────┤\n",
              "│ dense_2 (\u001b[38;5;33mDense\u001b[0m)                      │ (\u001b[38;5;45mNone\u001b[0m, \u001b[38;5;34m1\u001b[0m)                   │              \u001b[38;5;34m51\u001b[0m │\n",
              "└──────────────────────────────────────┴─────────────────────────────┴─────────────────┘\n"
            ]
          },
          "metadata": {},
          "output_type": "display_data"
        },
        {
          "data": {
            "text/html": [
              "<pre style=\"white-space:pre;overflow-x:auto;line-height:normal;font-family:Menlo,'DejaVu Sans Mono',consolas,'Courier New',monospace\"><span style=\"font-weight: bold\"> Total params: </span><span style=\"color: #00af00; text-decoration-color: #00af00\">58,851</span> (229.89 KB)\n",
              "</pre>\n"
            ],
            "text/plain": [
              "\u001b[1m Total params: \u001b[0m\u001b[38;5;34m58,851\u001b[0m (229.89 KB)\n"
            ]
          },
          "metadata": {},
          "output_type": "display_data"
        },
        {
          "data": {
            "text/html": [
              "<pre style=\"white-space:pre;overflow-x:auto;line-height:normal;font-family:Menlo,'DejaVu Sans Mono',consolas,'Courier New',monospace\"><span style=\"font-weight: bold\"> Trainable params: </span><span style=\"color: #00af00; text-decoration-color: #00af00\">58,851</span> (229.89 KB)\n",
              "</pre>\n"
            ],
            "text/plain": [
              "\u001b[1m Trainable params: \u001b[0m\u001b[38;5;34m58,851\u001b[0m (229.89 KB)\n"
            ]
          },
          "metadata": {},
          "output_type": "display_data"
        },
        {
          "data": {
            "text/html": [
              "<pre style=\"white-space:pre;overflow-x:auto;line-height:normal;font-family:Menlo,'DejaVu Sans Mono',consolas,'Courier New',monospace\"><span style=\"font-weight: bold\"> Non-trainable params: </span><span style=\"color: #00af00; text-decoration-color: #00af00\">0</span> (0.00 B)\n",
              "</pre>\n"
            ],
            "text/plain": [
              "\u001b[1m Non-trainable params: \u001b[0m\u001b[38;5;34m0\u001b[0m (0.00 B)\n"
            ]
          },
          "metadata": {},
          "output_type": "display_data"
        },
        {
          "output_type": "stream",
          "name": "stdout",
          "text": [
            "\n",
            "Training epochs 1 to 2\n",
            "Epoch 1/2\n",
            "\u001b[1m5000/5000\u001b[0m \u001b[32m━━━━━━━━━━━━━━━━━━━━\u001b[0m\u001b[37m\u001b[0m \u001b[1m137s\u001b[0m 23ms/step - loss: 0.0937\n",
            "Epoch 2/2\n",
            "\u001b[1m5000/5000\u001b[0m \u001b[32m━━━━━━━━━━━━━━━━━━━━\u001b[0m\u001b[37m\u001b[0m \u001b[1m114s\u001b[0m 23ms/step - loss: 0.0856\n",
            "\n",
            "Training epochs 3 to 4\n",
            "Epoch 3/4\n",
            "\u001b[1m5000/5000\u001b[0m \u001b[32m━━━━━━━━━━━━━━━━━━━━\u001b[0m\u001b[37m\u001b[0m \u001b[1m112s\u001b[0m 22ms/step - loss: 0.0853\n",
            "Epoch 4/4\n",
            "\u001b[1m5000/5000\u001b[0m \u001b[32m━━━━━━━━━━━━━━━━━━━━\u001b[0m\u001b[37m\u001b[0m \u001b[1m116s\u001b[0m 23ms/step - loss: 0.0845\n",
            "\n",
            "Training epochs 5 to 6\n",
            "Epoch 5/6\n",
            "\u001b[1m5000/5000\u001b[0m \u001b[32m━━━━━━━━━━━━━━━━━━━━\u001b[0m\u001b[37m\u001b[0m \u001b[1m112s\u001b[0m 22ms/step - loss: 0.0843\n",
            "Epoch 6/6\n",
            "\u001b[1m5000/5000\u001b[0m \u001b[32m━━━━━━━━━━━━━━━━━━━━\u001b[0m\u001b[37m\u001b[0m \u001b[1m113s\u001b[0m 23ms/step - loss: 0.0843\n",
            "\n",
            "Training epochs 7 to 8\n",
            "Epoch 7/8\n",
            "\u001b[1m5000/5000\u001b[0m \u001b[32m━━━━━━━━━━━━━━━━━━━━\u001b[0m\u001b[37m\u001b[0m \u001b[1m113s\u001b[0m 23ms/step - loss: 0.0843\n",
            "Epoch 8/8\n",
            "\u001b[1m5000/5000\u001b[0m \u001b[32m━━━━━━━━━━━━━━━━━━━━\u001b[0m\u001b[37m\u001b[0m \u001b[1m112s\u001b[0m 22ms/step - loss: 0.0838\n",
            "\n",
            "Training epochs 9 to 10\n",
            "Epoch 9/10\n",
            "\u001b[1m5000/5000\u001b[0m \u001b[32m━━━━━━━━━━━━━━━━━━━━\u001b[0m\u001b[37m\u001b[0m \u001b[1m113s\u001b[0m 23ms/step - loss: 0.0842\n",
            "Epoch 10/10\n",
            "\u001b[1m5000/5000\u001b[0m \u001b[32m━━━━━━━━━━━━━━━━━━━━\u001b[0m\u001b[37m\u001b[0m \u001b[1m112s\u001b[0m 22ms/step - loss: 0.0840\n",
            "\n",
            "Training epochs 11 to 12\n",
            "Epoch 11/12\n",
            "\u001b[1m5000/5000\u001b[0m \u001b[32m━━━━━━━━━━━━━━━━━━━━\u001b[0m\u001b[37m\u001b[0m \u001b[1m110s\u001b[0m 22ms/step - loss: 0.0837\n",
            "Epoch 12/12\n",
            "\u001b[1m5000/5000\u001b[0m \u001b[32m━━━━━━━━━━━━━━━━━━━━\u001b[0m\u001b[37m\u001b[0m \u001b[1m113s\u001b[0m 23ms/step - loss: 0.0835\n",
            "\n",
            "Training epochs 13 to 14\n",
            "Epoch 13/14\n",
            "\u001b[1m5000/5000\u001b[0m \u001b[32m━━━━━━━━━━━━━━━━━━━━\u001b[0m\u001b[37m\u001b[0m \u001b[1m113s\u001b[0m 23ms/step - loss: 0.0839\n",
            "Epoch 14/14\n",
            "\u001b[1m5000/5000\u001b[0m \u001b[32m━━━━━━━━━━━━━━━━━━━━\u001b[0m\u001b[37m\u001b[0m \u001b[1m112s\u001b[0m 22ms/step - loss: 0.0835\n",
            "\n",
            "Training epochs 15 to 16\n",
            "Epoch 15/16\n",
            "\u001b[1m5000/5000\u001b[0m \u001b[32m━━━━━━━━━━━━━━━━━━━━\u001b[0m\u001b[37m\u001b[0m \u001b[1m113s\u001b[0m 23ms/step - loss: 0.0833\n",
            "Epoch 16/16\n",
            "\u001b[1m5000/5000\u001b[0m \u001b[32m━━━━━━━━━━━━━━━━━━━━\u001b[0m\u001b[37m\u001b[0m \u001b[1m113s\u001b[0m 23ms/step - loss: 0.0836\n",
            "\n",
            "Training epochs 17 to 18\n",
            "Epoch 17/18\n",
            "\u001b[1m5000/5000\u001b[0m \u001b[32m━━━━━━━━━━━━━━━━━━━━\u001b[0m\u001b[37m\u001b[0m \u001b[1m114s\u001b[0m 23ms/step - loss: 0.0834\n",
            "Epoch 18/18\n",
            "\u001b[1m5000/5000\u001b[0m \u001b[32m━━━━━━━━━━━━━━━━━━━━\u001b[0m\u001b[37m\u001b[0m \u001b[1m115s\u001b[0m 23ms/step - loss: 0.0835\n",
            "\n",
            "Training epochs 19 to 20\n",
            "Epoch 19/20\n",
            "\u001b[1m5000/5000\u001b[0m \u001b[32m━━━━━━━━━━━━━━━━━━━━\u001b[0m\u001b[37m\u001b[0m \u001b[1m113s\u001b[0m 23ms/step - loss: 0.0834\n",
            "Epoch 20/20\n",
            "\u001b[1m5000/5000\u001b[0m \u001b[32m━━━━━━━━━━━━━━━━━━━━\u001b[0m\u001b[37m\u001b[0m \u001b[1m113s\u001b[0m 23ms/step - loss: 0.0832\n"
          ]
        }
      ]
    }
  ]
}