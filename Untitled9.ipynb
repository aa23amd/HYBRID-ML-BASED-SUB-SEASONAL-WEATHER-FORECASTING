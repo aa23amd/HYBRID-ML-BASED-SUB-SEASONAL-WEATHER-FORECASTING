{
  "nbformat": 4,
  "nbformat_minor": 0,
  "metadata": {
    "colab": {
      "provenance": [],
      "authorship_tag": "ABX9TyOqwBXp5+MMrrC7SezBFxYW",
      "include_colab_link": true
    },
    "kernelspec": {
      "name": "python3",
      "display_name": "Python 3"
    },
    "language_info": {
      "name": "python"
    }
  },
  "cells": [
    {
      "cell_type": "markdown",
      "metadata": {
        "id": "view-in-github",
        "colab_type": "text"
      },
      "source": [
        "<a href=\"https://colab.research.google.com/github/aa23amd/HYBRID-ML-BASED-SUB-SEASONAL-WEATHER-FORECASTING/blob/main/Untitled9.ipynb\" target=\"_parent\"><img src=\"https://colab.research.google.com/assets/colab-badge.svg\" alt=\"Open In Colab\"/></a>"
      ]
    },
    {
      "cell_type": "markdown",
      "source": [],
      "metadata": {
        "id": "L8WflWYw60-V"
      }
    },
    {
      "cell_type": "code",
      "execution_count": 1,
      "metadata": {
        "colab": {
          "base_uri": "https://localhost:8080/"
        },
        "id": "aDnUvwot4TMC",
        "outputId": "f0ae9a85-ef8a-4184-c648-ce4b3e78867e"
      },
      "outputs": [
        {
          "output_type": "stream",
          "name": "stdout",
          "text": [
            "Mounted at /content/drive\n"
          ]
        }
      ],
      "source": [
        "from google.colab import drive\n",
        "drive.mount('/content/drive', force_remount=True)\n"
      ]
    },
    {
      "cell_type": "code",
      "source": [
        "!ls \"/content/drive/\"\n"
      ],
      "metadata": {
        "colab": {
          "base_uri": "https://localhost:8080/"
        },
        "id": "pCdkeuuC5Sw7",
        "outputId": "c35f90b1-ecd3-4f5a-8b17-2854f094a285"
      },
      "execution_count": 4,
      "outputs": [
        {
          "output_type": "stream",
          "name": "stdout",
          "text": [
            "MyDrive\n"
          ]
        }
      ]
    },
    {
      "cell_type": "code",
      "source": [
        "!ls \"/content/drive/MyDrive\"\n"
      ],
      "metadata": {
        "colab": {
          "base_uri": "https://localhost:8080/"
        },
        "id": "3rCqbfJe5XwN",
        "outputId": "2b7d946a-197c-4364-bf50-5564447251ea"
      },
      "execution_count": 5,
      "outputs": [
        {
          "output_type": "stream",
          "name": "stdout",
          "text": [
            " archive\t   'Azam Ali PF 22101590.pdf'   raw_noaa_data.csv\t        test_data.csv.zip\n",
            "'Azam Ali(1).pdf'  'Colab Notebooks'\t       'raw_noaa_data_large. csv.csv'   train_data.csv.zip\n"
          ]
        }
      ]
    },
    {
      "cell_type": "code",
      "source": [
        "!unzip -o \"/content/drive/MyDrive/train_data.csv.zip\" -d /content/\n",
        "\n"
      ],
      "metadata": {
        "colab": {
          "base_uri": "https://localhost:8080/"
        },
        "id": "PwFdoumw5v_3",
        "outputId": "4280640f-20df-43b0-a2cd-f23a5495e874"
      },
      "execution_count": 7,
      "outputs": [
        {
          "output_type": "stream",
          "name": "stdout",
          "text": [
            "Archive:  /content/drive/MyDrive/train_data.csv.zip\n",
            "  inflating: /content/train_data.csv  \n"
          ]
        }
      ]
    },
    {
      "cell_type": "code",
      "source": [
        "!unzip -o \"/content/drive/MyDrive/test_data.csv.zip\" -d /content/\n"
      ],
      "metadata": {
        "colab": {
          "base_uri": "https://localhost:8080/"
        },
        "id": "LOnkKj7x7GLW",
        "outputId": "423c35f2-ee2f-4946-ad3f-723cb6a5cc5f"
      },
      "execution_count": 9,
      "outputs": [
        {
          "output_type": "stream",
          "name": "stdout",
          "text": [
            "Archive:  /content/drive/MyDrive/test_data.csv.zip\n",
            "  inflating: /content/test_data.csv  \n"
          ]
        }
      ]
    },
    {
      "cell_type": "markdown",
      "source": [
        "data loading\n"
      ],
      "metadata": {
        "id": "moswNmuP6-BO"
      }
    },
    {
      "cell_type": "code",
      "source": [
        "import pandas as pd\n",
        "\n",
        "# Load the training data\n",
        "train_df = pd.read_csv(\"/content/train_data.csv\")\n",
        "print(\"Training Data:\")\n",
        "print(train_df.head())\n",
        "\n",
        "# Load the test data\n",
        "test_df = pd.read_csv(\"/content/test_data.csv\")\n",
        "print(\"\\nTest Data:\")\n",
        "print(test_df.head())\n",
        "\n"
      ],
      "metadata": {
        "colab": {
          "base_uri": "https://localhost:8080/"
        },
        "id": "TW977h6J6Mjq",
        "outputId": "9f6b6315-5858-4800-c068-d8bdab83118e"
      },
      "execution_count": 10,
      "outputs": [
        {
          "output_type": "stream",
          "name": "stdout",
          "text": [
            "Training Data:\n",
            "   index  lat       lon startdate  contest-pevpr-sfc-gauss-14d__pevpr  \\\n",
            "0      0  0.0  0.833333    9/1/14                              237.00   \n",
            "1      1  0.0  0.833333    9/2/14                              228.90   \n",
            "2      2  0.0  0.833333    9/3/14                              220.69   \n",
            "3      3  0.0  0.833333    9/4/14                              225.28   \n",
            "4      4  0.0  0.833333    9/5/14                              237.24   \n",
            "\n",
            "   nmme0-tmp2m-34w__cancm30  nmme0-tmp2m-34w__cancm40  \\\n",
            "0                     29.02                     31.64   \n",
            "1                     29.02                     31.64   \n",
            "2                     29.02                     31.64   \n",
            "3                     29.02                     31.64   \n",
            "4                     29.02                     31.64   \n",
            "\n",
            "   nmme0-tmp2m-34w__ccsm30  nmme0-tmp2m-34w__ccsm40  nmme0-tmp2m-34w__cfsv20  \\\n",
            "0                    29.57                    30.73                    29.71   \n",
            "1                    29.57                    30.73                    29.71   \n",
            "2                    29.57                    30.73                    29.71   \n",
            "3                    29.57                    30.73                    29.71   \n",
            "4                    29.57                    30.73                    29.71   \n",
            "\n",
            "   ...  wind-vwnd-925-2010-11  wind-vwnd-925-2010-12  wind-vwnd-925-2010-13  \\\n",
            "0  ...                 -27.68                 -37.21                   8.32   \n",
            "1  ...                 -21.13                 -36.57                   8.77   \n",
            "2  ...                 -10.72                 -34.16                   6.99   \n",
            "3  ...                   0.33                 -31.04                   6.17   \n",
            "4  ...                   9.83                 -31.80                   7.47   \n",
            "\n",
            "   wind-vwnd-925-2010-14  wind-vwnd-925-2010-15  wind-vwnd-925-2010-16  \\\n",
            "0                   9.56                  -2.03                  48.13   \n",
            "1                  21.17                   4.44                  48.60   \n",
            "2                  32.16                   5.01                  48.53   \n",
            "3                  39.66                  -1.41                  50.59   \n",
            "4                  38.62                  -5.21                  54.73   \n",
            "\n",
            "   wind-vwnd-925-2010-17  wind-vwnd-925-2010-18  wind-vwnd-925-2010-19  \\\n",
            "0                  28.09                 -13.50                  11.90   \n",
            "1                  27.41                 -23.77                  15.44   \n",
            "2                  19.21                 -33.16                  15.11   \n",
            "3                   8.29                 -37.22                  18.24   \n",
            "4                  -2.58                 -42.30                  21.91   \n",
            "\n",
            "   wind-vwnd-925-2010-20  \n",
            "0                   4.58  \n",
            "1                   3.42  \n",
            "2                   4.82  \n",
            "3                   9.74  \n",
            "4                  10.95  \n",
            "\n",
            "[5 rows x 246 columns]\n",
            "\n",
            "Test Data:\n",
            "    index  lat       lon startdate  contest-pevpr-sfc-gauss-14d__pevpr  \\\n",
            "0  375734  0.0  0.833333   11/1/22                              339.88   \n",
            "1  375735  0.0  0.833333   11/2/22                              334.63   \n",
            "2  375736  0.0  0.833333   11/3/22                              337.83   \n",
            "3  375737  0.0  0.833333   11/4/22                              345.81   \n",
            "4  375738  0.0  0.833333   11/5/22                              357.39   \n",
            "\n",
            "   nmme0-tmp2m-34w__cancm30  nmme0-tmp2m-34w__cancm40  \\\n",
            "0                     30.88                     30.92   \n",
            "1                     30.88                     30.92   \n",
            "2                     30.88                     30.92   \n",
            "3                     30.88                     30.92   \n",
            "4                     30.88                     30.92   \n",
            "\n",
            "   nmme0-tmp2m-34w__ccsm30  nmme0-tmp2m-34w__ccsm40  nmme0-tmp2m-34w__cfsv20  \\\n",
            "0                    29.17                    31.02                    29.47   \n",
            "1                    29.17                    31.02                    29.47   \n",
            "2                    29.17                    31.02                    29.47   \n",
            "3                    29.17                    31.02                    29.47   \n",
            "4                    29.17                    31.02                    29.47   \n",
            "\n",
            "   ...  wind-vwnd-925-2010-11  wind-vwnd-925-2010-12  wind-vwnd-925-2010-13  \\\n",
            "0  ...                 -19.28                 -39.77                 -29.25   \n",
            "1  ...                 -19.58                 -43.14                 -28.62   \n",
            "2  ...                 -13.73                 -44.22                 -27.67   \n",
            "3  ...                  -7.97                 -49.47                 -19.32   \n",
            "4  ...                  -0.80                 -56.07                  -9.89   \n",
            "\n",
            "   wind-vwnd-925-2010-14  wind-vwnd-925-2010-15  wind-vwnd-925-2010-16  \\\n",
            "0                  40.88                  -8.31                  14.91   \n",
            "1                  45.37                  -5.42                  16.97   \n",
            "2                  49.76                  -1.31                  21.44   \n",
            "3                  52.62                  -0.44                  21.65   \n",
            "4                  51.23                  -7.57                  19.86   \n",
            "\n",
            "   wind-vwnd-925-2010-17  wind-vwnd-925-2010-18  wind-vwnd-925-2010-19  \\\n",
            "0                 -24.62                  31.05                 -23.69   \n",
            "1                 -23.94                  28.84                 -20.61   \n",
            "2                 -19.06                  26.85                 -16.78   \n",
            "3                 -23.12                  23.70                 -18.62   \n",
            "4                 -30.56                  20.66                 -25.08   \n",
            "\n",
            "   wind-vwnd-925-2010-20  \n",
            "0                   6.27  \n",
            "1                  14.16  \n",
            "2                  13.42  \n",
            "3                  10.69  \n",
            "4                  19.64  \n",
            "\n",
            "[5 rows x 245 columns]\n"
          ]
        }
      ]
    },
    {
      "cell_type": "markdown",
      "source": [
        "checking missing values"
      ],
      "metadata": {
        "id": "bKAN3F1q8igP"
      }
    },
    {
      "cell_type": "code",
      "source": [
        "import pandas as pd\n",
        "\n",
        "# Load your training and test datasets (already done)\n",
        "# train_df and test_df have been loaded previously\n",
        "\n",
        "# Check for missing values\n",
        "print(train_df.isnull().sum().sort_values(ascending=False).head(10))\n",
        "print(test_df.isnull().sum().sort_values(ascending=False).head(10))\n",
        "\n",
        "# Convert the startdate to datetime and extract features\n",
        "for df in [train_df, test_df]:\n",
        "    df['startdate'] = pd.to_datetime(df['startdate'], format='%m/%d/%y')  # Adjust format as needed\n",
        "    df['year'] = df['startdate'].dt.year\n",
        "    df['month'] = df['startdate'].dt.month\n",
        "    df['day'] = df['startdate'].dt.day\n",
        "    df['weekday'] = df['startdate'].dt.weekday\n",
        "\n",
        "# Optionally drop the original startdate column if not needed\n",
        "train_df.drop(columns=['startdate', 'index'], inplace=True)\n",
        "test_df.drop(columns=['startdate', 'index'], inplace=True)\n",
        "\n"
      ],
      "metadata": {
        "colab": {
          "base_uri": "https://localhost:8080/"
        },
        "id": "3MSZiqoV8bmo",
        "outputId": "11ea7ef3-13c0-4ad4-d1fe-00f3ffbad31d"
      },
      "execution_count": 12,
      "outputs": [
        {
          "output_type": "stream",
          "name": "stdout",
          "text": [
            "nmme0-tmp2m-34w__ccsm30     15934\n",
            "nmme0-prate-34w__ccsm30     15934\n",
            "nmme0-prate-56w__ccsm30     15934\n",
            "ccsm30                      15934\n",
            "nmme-prate-56w__ccsm3       10280\n",
            "nmme-tmp2m-56w__ccsm3       10280\n",
            "nmme-prate-34w__ccsm3        8738\n",
            "nmme-tmp2m-34w__ccsm3        8738\n",
            "nmme0-tmp2m-34w__cancm30        0\n",
            "nmme0-tmp2m-34w__cancm40        0\n",
            "dtype: int64\n",
            "index                                 0\n",
            "lat                                   0\n",
            "lon                                   0\n",
            "startdate                             0\n",
            "contest-pevpr-sfc-gauss-14d__pevpr    0\n",
            "nmme0-tmp2m-34w__cancm30              0\n",
            "nmme0-tmp2m-34w__cancm40              0\n",
            "nmme0-tmp2m-34w__ccsm30               0\n",
            "nmme0-tmp2m-34w__ccsm40               0\n",
            "nmme0-tmp2m-34w__cfsv20               0\n",
            "dtype: int64\n"
          ]
        }
      ]
    },
    {
      "cell_type": "markdown",
      "source": [
        "feature scaling and encoding"
      ],
      "metadata": {
        "id": "Aehc-VC8800y"
      }
    },
    {
      "cell_type": "code",
      "source": [
        "import pandas as pd\n",
        "from sklearn.preprocessing import StandardScaler\n",
        "\n",
        "# Assuming train_df and test_df are already loaded\n",
        "\n",
        "# Identify numerical columns in training data\n",
        "train_num_cols = train_df.select_dtypes(include=['int64', 'float64']).columns.tolist()\n",
        "# Identify numerical columns in test data\n",
        "test_num_cols = test_df.select_dtypes(include=['int64', 'float64']).columns.tolist()\n",
        "\n",
        "# Determine common numerical columns between train and test data\n",
        "common_num_cols = list(set(train_num_cols).intersection(set(test_num_cols)))\n",
        "common_num_cols.sort()  # Optional: sort for consistency\n",
        "print(\"Common numerical columns for scaling:\")\n",
        "print(common_num_cols)\n",
        "\n",
        "# Create and fit the scaler on the training data using only the common columns\n",
        "scaler = StandardScaler()\n",
        "train_df[common_num_cols] = scaler.fit_transform(train_df[common_num_cols])\n",
        "\n",
        "# Transform the test data using the same scaler and common columns\n",
        "test_df[common_num_cols] = scaler.transform(test_df[common_num_cols])\n",
        "\n",
        "# Verify the results by displaying the first few rows\n",
        "print(\"Scaled training data:\")\n",
        "print(train_df[common_num_cols].head())\n",
        "\n",
        "print(\"\\nScaled test data:\")\n",
        "print(test_df[common_num_cols].head())\n",
        "\n"
      ],
      "metadata": {
        "colab": {
          "base_uri": "https://localhost:8080/"
        },
        "id": "3VNcWynP84vw",
        "outputId": "f947f7dd-532a-444b-ee21-104cf5ae4269"
      },
      "execution_count": 15,
      "outputs": [
        {
          "output_type": "stream",
          "name": "stdout",
          "text": [
            "Common numerical columns for scaling:\n",
            "['cancm30', 'cancm40', 'ccsm30', 'ccsm40', 'cfsv20', 'contest-pevpr-sfc-gauss-14d__pevpr', 'contest-precip-14d__precip', 'contest-pres-sfc-gauss-14d__pres', 'contest-prwtr-eatm-14d__prwtr', 'contest-rhum-sig995-14d__rhum', 'contest-slp-14d__slp', 'contest-wind-h10-14d__wind-hgt-10', 'contest-wind-h100-14d__wind-hgt-100', 'contest-wind-h500-14d__wind-hgt-500', 'contest-wind-h850-14d__wind-hgt-850', 'contest-wind-uwnd-250-14d__wind-uwnd-250', 'contest-wind-uwnd-925-14d__wind-uwnd-925', 'contest-wind-vwnd-250-14d__wind-vwnd-250', 'contest-wind-vwnd-925-14d__wind-vwnd-925', 'elevation__elevation', 'gfdl0', 'gfdlflora0', 'gfdlflorb0', 'icec-2010-1', 'icec-2010-10', 'icec-2010-2', 'icec-2010-3', 'icec-2010-4', 'icec-2010-5', 'icec-2010-6', 'icec-2010-7', 'icec-2010-8', 'icec-2010-9', 'lat', 'lon', 'mei__mei', 'mei__meirank', 'mei__nip', 'mjo1d__amplitude', 'mjo1d__phase', 'nasa0', 'nmme-prate-34w__cancm3', 'nmme-prate-34w__cancm4', 'nmme-prate-34w__ccsm3', 'nmme-prate-34w__ccsm4', 'nmme-prate-34w__cfsv2', 'nmme-prate-34w__gfdl', 'nmme-prate-34w__gfdlflora', 'nmme-prate-34w__gfdlflorb', 'nmme-prate-34w__nasa', 'nmme-prate-34w__nmmemean', 'nmme-prate-56w__cancm3', 'nmme-prate-56w__cancm4', 'nmme-prate-56w__ccsm3', 'nmme-prate-56w__ccsm4', 'nmme-prate-56w__cfsv2', 'nmme-prate-56w__gfdl', 'nmme-prate-56w__gfdlflora', 'nmme-prate-56w__gfdlflorb', 'nmme-prate-56w__nasa', 'nmme-prate-56w__nmmemean', 'nmme-tmp2m-34w__cancm3', 'nmme-tmp2m-34w__cancm4', 'nmme-tmp2m-34w__ccsm3', 'nmme-tmp2m-34w__ccsm4', 'nmme-tmp2m-34w__cfsv2', 'nmme-tmp2m-34w__gfdl', 'nmme-tmp2m-34w__gfdlflora', 'nmme-tmp2m-34w__gfdlflorb', 'nmme-tmp2m-34w__nasa', 'nmme-tmp2m-34w__nmmemean', 'nmme-tmp2m-56w__cancm3', 'nmme-tmp2m-56w__cancm4', 'nmme-tmp2m-56w__ccsm3', 'nmme-tmp2m-56w__ccsm4', 'nmme-tmp2m-56w__cfsv2', 'nmme-tmp2m-56w__gfdl', 'nmme-tmp2m-56w__gfdlflora', 'nmme-tmp2m-56w__gfdlflorb', 'nmme-tmp2m-56w__nasa', 'nmme-tmp2m-56w__nmmemean', 'nmme0-prate-34w__cancm30', 'nmme0-prate-34w__cancm40', 'nmme0-prate-34w__ccsm30', 'nmme0-prate-34w__ccsm40', 'nmme0-prate-34w__cfsv20', 'nmme0-prate-34w__gfdl0', 'nmme0-prate-34w__gfdlflora0', 'nmme0-prate-34w__gfdlflorb0', 'nmme0-prate-34w__nasa0', 'nmme0-prate-34w__nmme0mean', 'nmme0-prate-56w__cancm30', 'nmme0-prate-56w__cancm40', 'nmme0-prate-56w__ccsm30', 'nmme0-prate-56w__ccsm40', 'nmme0-prate-56w__cfsv20', 'nmme0-prate-56w__gfdl0', 'nmme0-prate-56w__gfdlflora0', 'nmme0-prate-56w__gfdlflorb0', 'nmme0-prate-56w__nasa0', 'nmme0-prate-56w__nmme0mean', 'nmme0-tmp2m-34w__cancm30', 'nmme0-tmp2m-34w__cancm40', 'nmme0-tmp2m-34w__ccsm30', 'nmme0-tmp2m-34w__ccsm40', 'nmme0-tmp2m-34w__cfsv20', 'nmme0-tmp2m-34w__gfdl0', 'nmme0-tmp2m-34w__gfdlflora0', 'nmme0-tmp2m-34w__gfdlflorb0', 'nmme0-tmp2m-34w__nasa0', 'nmme0-tmp2m-34w__nmme0mean', 'nmme0mean', 'sst-2010-1', 'sst-2010-10', 'sst-2010-2', 'sst-2010-3', 'sst-2010-4', 'sst-2010-5', 'sst-2010-6', 'sst-2010-7', 'sst-2010-8', 'sst-2010-9', 'wind-hgt-10-2010-1', 'wind-hgt-10-2010-10', 'wind-hgt-10-2010-2', 'wind-hgt-10-2010-3', 'wind-hgt-10-2010-4', 'wind-hgt-10-2010-5', 'wind-hgt-10-2010-6', 'wind-hgt-10-2010-7', 'wind-hgt-10-2010-8', 'wind-hgt-10-2010-9', 'wind-hgt-100-2010-1', 'wind-hgt-100-2010-10', 'wind-hgt-100-2010-2', 'wind-hgt-100-2010-3', 'wind-hgt-100-2010-4', 'wind-hgt-100-2010-5', 'wind-hgt-100-2010-6', 'wind-hgt-100-2010-7', 'wind-hgt-100-2010-8', 'wind-hgt-100-2010-9', 'wind-hgt-500-2010-1', 'wind-hgt-500-2010-10', 'wind-hgt-500-2010-2', 'wind-hgt-500-2010-3', 'wind-hgt-500-2010-4', 'wind-hgt-500-2010-5', 'wind-hgt-500-2010-6', 'wind-hgt-500-2010-7', 'wind-hgt-500-2010-8', 'wind-hgt-500-2010-9', 'wind-hgt-850-2010-1', 'wind-hgt-850-2010-10', 'wind-hgt-850-2010-2', 'wind-hgt-850-2010-3', 'wind-hgt-850-2010-4', 'wind-hgt-850-2010-5', 'wind-hgt-850-2010-6', 'wind-hgt-850-2010-7', 'wind-hgt-850-2010-8', 'wind-hgt-850-2010-9', 'wind-uwnd-250-2010-1', 'wind-uwnd-250-2010-10', 'wind-uwnd-250-2010-11', 'wind-uwnd-250-2010-12', 'wind-uwnd-250-2010-13', 'wind-uwnd-250-2010-14', 'wind-uwnd-250-2010-15', 'wind-uwnd-250-2010-16', 'wind-uwnd-250-2010-17', 'wind-uwnd-250-2010-18', 'wind-uwnd-250-2010-19', 'wind-uwnd-250-2010-2', 'wind-uwnd-250-2010-20', 'wind-uwnd-250-2010-3', 'wind-uwnd-250-2010-4', 'wind-uwnd-250-2010-5', 'wind-uwnd-250-2010-6', 'wind-uwnd-250-2010-7', 'wind-uwnd-250-2010-8', 'wind-uwnd-250-2010-9', 'wind-uwnd-925-2010-1', 'wind-uwnd-925-2010-10', 'wind-uwnd-925-2010-11', 'wind-uwnd-925-2010-12', 'wind-uwnd-925-2010-13', 'wind-uwnd-925-2010-14', 'wind-uwnd-925-2010-15', 'wind-uwnd-925-2010-16', 'wind-uwnd-925-2010-17', 'wind-uwnd-925-2010-18', 'wind-uwnd-925-2010-19', 'wind-uwnd-925-2010-2', 'wind-uwnd-925-2010-20', 'wind-uwnd-925-2010-3', 'wind-uwnd-925-2010-4', 'wind-uwnd-925-2010-5', 'wind-uwnd-925-2010-6', 'wind-uwnd-925-2010-7', 'wind-uwnd-925-2010-8', 'wind-uwnd-925-2010-9', 'wind-vwnd-250-2010-1', 'wind-vwnd-250-2010-10', 'wind-vwnd-250-2010-11', 'wind-vwnd-250-2010-12', 'wind-vwnd-250-2010-13', 'wind-vwnd-250-2010-14', 'wind-vwnd-250-2010-15', 'wind-vwnd-250-2010-16', 'wind-vwnd-250-2010-17', 'wind-vwnd-250-2010-18', 'wind-vwnd-250-2010-19', 'wind-vwnd-250-2010-2', 'wind-vwnd-250-2010-20', 'wind-vwnd-250-2010-3', 'wind-vwnd-250-2010-4', 'wind-vwnd-250-2010-5', 'wind-vwnd-250-2010-6', 'wind-vwnd-250-2010-7', 'wind-vwnd-250-2010-8', 'wind-vwnd-250-2010-9', 'wind-vwnd-925-2010-1', 'wind-vwnd-925-2010-10', 'wind-vwnd-925-2010-11', 'wind-vwnd-925-2010-12', 'wind-vwnd-925-2010-13', 'wind-vwnd-925-2010-14', 'wind-vwnd-925-2010-15', 'wind-vwnd-925-2010-16', 'wind-vwnd-925-2010-17', 'wind-vwnd-925-2010-18', 'wind-vwnd-925-2010-19', 'wind-vwnd-925-2010-2', 'wind-vwnd-925-2010-20', 'wind-vwnd-925-2010-3', 'wind-vwnd-925-2010-4', 'wind-vwnd-925-2010-5', 'wind-vwnd-925-2010-6', 'wind-vwnd-925-2010-7', 'wind-vwnd-925-2010-8', 'wind-vwnd-925-2010-9']\n",
            "Scaled training data:\n",
            "   cancm30   cancm40   ccsm30    ccsm40    cfsv20  \\\n",
            "0  1.77059  1.819756  1.81284  1.810485  1.980493   \n",
            "1  1.77059  1.819756  1.81284  1.810485  1.980493   \n",
            "2  1.77059  1.819756  1.81284  1.810485  1.980493   \n",
            "3  1.77059  1.819756  1.81284  1.810485  1.980493   \n",
            "4  1.77059  1.819756  1.81284  1.810485  1.980493   \n",
            "\n",
            "   contest-pevpr-sfc-gauss-14d__pevpr  contest-precip-14d__precip  \\\n",
            "0                           -0.200642                    2.225238   \n",
            "1                           -0.241533                    2.428919   \n",
            "2                           -0.282980                    2.441377   \n",
            "3                           -0.259808                    2.461621   \n",
            "4                           -0.199430                    1.871443   \n",
            "\n",
            "   contest-pres-sfc-gauss-14d__pres  contest-prwtr-eatm-14d__prwtr  \\\n",
            "0                          1.445621                       3.457537   \n",
            "1                          1.452047                       3.483328   \n",
            "2                          1.456049                       3.553334   \n",
            "3                          1.455872                       3.538596   \n",
            "4                          1.451995                       3.522630   \n",
            "\n",
            "   contest-rhum-sig995-14d__rhum  ...  wind-vwnd-925-2010-19  \\\n",
            "0                       1.089301  ...               0.056244   \n",
            "1                       1.137578  ...               0.197446   \n",
            "2                       1.179532  ...               0.184283   \n",
            "3                       1.177808  ...               0.309132   \n",
            "4                       1.134129  ...               0.455519   \n",
            "\n",
            "   wind-vwnd-925-2010-2  wind-vwnd-925-2010-20  wind-vwnd-925-2010-3  \\\n",
            "0              0.895543              -0.267443              0.212122   \n",
            "1              0.955348              -0.313633              0.309340   \n",
            "2              0.971189              -0.257886              0.446336   \n",
            "3              0.844638              -0.061973              0.681580   \n",
            "4              0.737665              -0.013791              0.901048   \n",
            "\n",
            "   wind-vwnd-925-2010-4  wind-vwnd-925-2010-5  wind-vwnd-925-2010-6  \\\n",
            "0             -1.062009              0.501566              0.885436   \n",
            "1             -0.939979              0.751893              0.793532   \n",
            "2             -0.763777              0.919168              0.655789   \n",
            "3             -0.584914              0.968021              0.473540   \n",
            "4             -0.442356              0.942422              0.377409   \n",
            "\n",
            "   wind-vwnd-925-2010-7  wind-vwnd-925-2010-8  wind-vwnd-925-2010-9  \n",
            "0             -0.486206              0.134806             -0.183764  \n",
            "1             -0.589770              0.192957             -0.049918  \n",
            "2             -0.744332              0.222551              0.101851  \n",
            "3             -0.942959              0.142334              0.120680  \n",
            "4             -1.143376              0.000331              0.109110  \n",
            "\n",
            "[5 rows x 242 columns]\n",
            "\n",
            "Scaled test data:\n",
            "   cancm30  cancm40  ccsm30  ccsm40  cfsv20  \\\n",
            "0    29.44    33.11   29.06   31.58   29.43   \n",
            "1    29.44    33.11   29.06   31.58   29.43   \n",
            "2    29.44    33.11   29.06   31.58   29.43   \n",
            "3    29.44    33.11   29.06   31.58   29.43   \n",
            "4    29.44    33.11   29.06   31.58   29.43   \n",
            "\n",
            "   contest-pevpr-sfc-gauss-14d__pevpr  contest-precip-14d__precip  \\\n",
            "0                              339.88                       34.85   \n",
            "1                              334.63                       27.46   \n",
            "2                              337.83                       24.65   \n",
            "3                              345.81                       22.43   \n",
            "4                              357.39                       16.31   \n",
            "\n",
            "   contest-pres-sfc-gauss-14d__pres  contest-prwtr-eatm-14d__prwtr  \\\n",
            "0                          98734.98                          40.29   \n",
            "1                          98745.78                          40.15   \n",
            "2                          98743.07                          40.07   \n",
            "3                          98748.59                          40.00   \n",
            "4                          98761.84                          39.80   \n",
            "\n",
            "   contest-rhum-sig995-14d__rhum  ...  wind-vwnd-925-2010-19  \\\n",
            "0                          72.04  ...                 -23.69   \n",
            "1                          71.93  ...                 -20.61   \n",
            "2                          72.43  ...                 -16.78   \n",
            "3                          71.88  ...                 -18.62   \n",
            "4                          71.18  ...                 -25.08   \n",
            "\n",
            "   wind-vwnd-925-2010-2  wind-vwnd-925-2010-20  wind-vwnd-925-2010-3  \\\n",
            "0                163.89                   6.27                 10.51   \n",
            "1                154.82                  14.16                 -6.93   \n",
            "2                159.27                  13.42                -27.22   \n",
            "3                162.12                  10.69                -44.23   \n",
            "4                158.83                  19.64                -50.76   \n",
            "\n",
            "   wind-vwnd-925-2010-4  wind-vwnd-925-2010-5  wind-vwnd-925-2010-6  \\\n",
            "0                -93.61                 26.35                 22.41   \n",
            "1               -101.13                 39.26                 20.33   \n",
            "2                -98.88                 53.38                 17.97   \n",
            "3                -85.89                 63.07                 18.40   \n",
            "4                -78.09                 60.66                 21.79   \n",
            "\n",
            "   wind-vwnd-925-2010-7  wind-vwnd-925-2010-8  wind-vwnd-925-2010-9  \n",
            "0                -53.48                -28.77                -78.46  \n",
            "1                -49.05                -34.60                -75.68  \n",
            "2                -42.45                -42.49                -72.04  \n",
            "3                -37.85                -49.16                -68.95  \n",
            "4                -36.74                -46.90                -65.57  \n",
            "\n",
            "[5 rows x 242 columns]\n"
          ]
        }
      ]
    },
    {
      "cell_type": "markdown",
      "source": [
        "XGBoost Model Training"
      ],
      "metadata": {
        "id": "6MITNsew-a7j"
      }
    },
    {
      "cell_type": "code",
      "source": [
        "print(train_df.columns.tolist())\n",
        "\n"
      ],
      "metadata": {
        "colab": {
          "base_uri": "https://localhost:8080/"
        },
        "id": "oSR8K0Rj-eMI",
        "outputId": "d1b6d412-5604-4eb3-b619-a57f5ce26c85"
      },
      "execution_count": 17,
      "outputs": [
        {
          "output_type": "stream",
          "name": "stdout",
          "text": [
            "['lat', 'lon', 'contest-pevpr-sfc-gauss-14d__pevpr', 'nmme0-tmp2m-34w__cancm30', 'nmme0-tmp2m-34w__cancm40', 'nmme0-tmp2m-34w__ccsm30', 'nmme0-tmp2m-34w__ccsm40', 'nmme0-tmp2m-34w__cfsv20', 'nmme0-tmp2m-34w__gfdlflora0', 'nmme0-tmp2m-34w__gfdlflorb0', 'nmme0-tmp2m-34w__gfdl0', 'nmme0-tmp2m-34w__nasa0', 'nmme0-tmp2m-34w__nmme0mean', 'contest-wind-h10-14d__wind-hgt-10', 'nmme-tmp2m-56w__cancm3', 'nmme-tmp2m-56w__cancm4', 'nmme-tmp2m-56w__ccsm3', 'nmme-tmp2m-56w__ccsm4', 'nmme-tmp2m-56w__cfsv2', 'nmme-tmp2m-56w__gfdl', 'nmme-tmp2m-56w__gfdlflora', 'nmme-tmp2m-56w__gfdlflorb', 'nmme-tmp2m-56w__nasa', 'nmme-tmp2m-56w__nmmemean', 'contest-rhum-sig995-14d__rhum', 'nmme-prate-34w__cancm3', 'nmme-prate-34w__cancm4', 'nmme-prate-34w__ccsm3', 'nmme-prate-34w__ccsm4', 'nmme-prate-34w__cfsv2', 'nmme-prate-34w__gfdl', 'nmme-prate-34w__gfdlflora', 'nmme-prate-34w__gfdlflorb', 'nmme-prate-34w__nasa', 'nmme-prate-34w__nmmemean', 'contest-wind-h100-14d__wind-hgt-100', 'nmme0-prate-56w__cancm30', 'nmme0-prate-56w__cancm40', 'nmme0-prate-56w__ccsm30', 'nmme0-prate-56w__ccsm40', 'nmme0-prate-56w__cfsv20', 'nmme0-prate-56w__gfdlflora0', 'nmme0-prate-56w__gfdlflorb0', 'nmme0-prate-56w__gfdl0', 'nmme0-prate-56w__nasa0', 'nmme0-prate-56w__nmme0mean', 'nmme0-prate-34w__cancm30', 'nmme0-prate-34w__cancm40', 'nmme0-prate-34w__ccsm30', 'nmme0-prate-34w__ccsm40', 'nmme0-prate-34w__cfsv20', 'nmme0-prate-34w__gfdlflora0', 'nmme0-prate-34w__gfdlflorb0', 'nmme0-prate-34w__gfdl0', 'nmme0-prate-34w__nasa0', 'nmme0-prate-34w__nmme0mean', 'contest-tmp2m-14d__tmp2m', 'contest-slp-14d__slp', 'contest-wind-vwnd-925-14d__wind-vwnd-925', 'nmme-prate-56w__cancm3', 'nmme-prate-56w__cancm4', 'nmme-prate-56w__ccsm3', 'nmme-prate-56w__ccsm4', 'nmme-prate-56w__cfsv2', 'nmme-prate-56w__gfdl', 'nmme-prate-56w__gfdlflora', 'nmme-prate-56w__gfdlflorb', 'nmme-prate-56w__nasa', 'nmme-prate-56w__nmmemean', 'contest-pres-sfc-gauss-14d__pres', 'contest-wind-uwnd-250-14d__wind-uwnd-250', 'nmme-tmp2m-34w__cancm3', 'nmme-tmp2m-34w__cancm4', 'nmme-tmp2m-34w__ccsm3', 'nmme-tmp2m-34w__ccsm4', 'nmme-tmp2m-34w__cfsv2', 'nmme-tmp2m-34w__gfdl', 'nmme-tmp2m-34w__gfdlflora', 'nmme-tmp2m-34w__gfdlflorb', 'nmme-tmp2m-34w__nasa', 'nmme-tmp2m-34w__nmmemean', 'contest-prwtr-eatm-14d__prwtr', 'contest-wind-vwnd-250-14d__wind-vwnd-250', 'contest-precip-14d__precip', 'contest-wind-h850-14d__wind-hgt-850', 'contest-wind-uwnd-925-14d__wind-uwnd-925', 'contest-wind-h500-14d__wind-hgt-500', 'cancm30', 'cancm40', 'ccsm30', 'ccsm40', 'cfsv20', 'gfdlflora0', 'gfdlflorb0', 'gfdl0', 'nasa0', 'nmme0mean', 'climateregions__climateregion', 'elevation__elevation', 'wind-vwnd-250-2010-1', 'wind-vwnd-250-2010-2', 'wind-vwnd-250-2010-3', 'wind-vwnd-250-2010-4', 'wind-vwnd-250-2010-5', 'wind-vwnd-250-2010-6', 'wind-vwnd-250-2010-7', 'wind-vwnd-250-2010-8', 'wind-vwnd-250-2010-9', 'wind-vwnd-250-2010-10', 'wind-vwnd-250-2010-11', 'wind-vwnd-250-2010-12', 'wind-vwnd-250-2010-13', 'wind-vwnd-250-2010-14', 'wind-vwnd-250-2010-15', 'wind-vwnd-250-2010-16', 'wind-vwnd-250-2010-17', 'wind-vwnd-250-2010-18', 'wind-vwnd-250-2010-19', 'wind-vwnd-250-2010-20', 'wind-uwnd-250-2010-1', 'wind-uwnd-250-2010-2', 'wind-uwnd-250-2010-3', 'wind-uwnd-250-2010-4', 'wind-uwnd-250-2010-5', 'wind-uwnd-250-2010-6', 'wind-uwnd-250-2010-7', 'wind-uwnd-250-2010-8', 'wind-uwnd-250-2010-9', 'wind-uwnd-250-2010-10', 'wind-uwnd-250-2010-11', 'wind-uwnd-250-2010-12', 'wind-uwnd-250-2010-13', 'wind-uwnd-250-2010-14', 'wind-uwnd-250-2010-15', 'wind-uwnd-250-2010-16', 'wind-uwnd-250-2010-17', 'wind-uwnd-250-2010-18', 'wind-uwnd-250-2010-19', 'wind-uwnd-250-2010-20', 'mjo1d__phase', 'mjo1d__amplitude', 'mei__mei', 'mei__meirank', 'mei__nip', 'wind-hgt-850-2010-1', 'wind-hgt-850-2010-2', 'wind-hgt-850-2010-3', 'wind-hgt-850-2010-4', 'wind-hgt-850-2010-5', 'wind-hgt-850-2010-6', 'wind-hgt-850-2010-7', 'wind-hgt-850-2010-8', 'wind-hgt-850-2010-9', 'wind-hgt-850-2010-10', 'sst-2010-1', 'sst-2010-2', 'sst-2010-3', 'sst-2010-4', 'sst-2010-5', 'sst-2010-6', 'sst-2010-7', 'sst-2010-8', 'sst-2010-9', 'sst-2010-10', 'wind-hgt-500-2010-1', 'wind-hgt-500-2010-2', 'wind-hgt-500-2010-3', 'wind-hgt-500-2010-4', 'wind-hgt-500-2010-5', 'wind-hgt-500-2010-6', 'wind-hgt-500-2010-7', 'wind-hgt-500-2010-8', 'wind-hgt-500-2010-9', 'wind-hgt-500-2010-10', 'icec-2010-1', 'icec-2010-2', 'icec-2010-3', 'icec-2010-4', 'icec-2010-5', 'icec-2010-6', 'icec-2010-7', 'icec-2010-8', 'icec-2010-9', 'icec-2010-10', 'wind-uwnd-925-2010-1', 'wind-uwnd-925-2010-2', 'wind-uwnd-925-2010-3', 'wind-uwnd-925-2010-4', 'wind-uwnd-925-2010-5', 'wind-uwnd-925-2010-6', 'wind-uwnd-925-2010-7', 'wind-uwnd-925-2010-8', 'wind-uwnd-925-2010-9', 'wind-uwnd-925-2010-10', 'wind-uwnd-925-2010-11', 'wind-uwnd-925-2010-12', 'wind-uwnd-925-2010-13', 'wind-uwnd-925-2010-14', 'wind-uwnd-925-2010-15', 'wind-uwnd-925-2010-16', 'wind-uwnd-925-2010-17', 'wind-uwnd-925-2010-18', 'wind-uwnd-925-2010-19', 'wind-uwnd-925-2010-20', 'wind-hgt-10-2010-1', 'wind-hgt-10-2010-2', 'wind-hgt-10-2010-3', 'wind-hgt-10-2010-4', 'wind-hgt-10-2010-5', 'wind-hgt-10-2010-6', 'wind-hgt-10-2010-7', 'wind-hgt-10-2010-8', 'wind-hgt-10-2010-9', 'wind-hgt-10-2010-10', 'wind-hgt-100-2010-1', 'wind-hgt-100-2010-2', 'wind-hgt-100-2010-3', 'wind-hgt-100-2010-4', 'wind-hgt-100-2010-5', 'wind-hgt-100-2010-6', 'wind-hgt-100-2010-7', 'wind-hgt-100-2010-8', 'wind-hgt-100-2010-9', 'wind-hgt-100-2010-10', 'wind-vwnd-925-2010-1', 'wind-vwnd-925-2010-2', 'wind-vwnd-925-2010-3', 'wind-vwnd-925-2010-4', 'wind-vwnd-925-2010-5', 'wind-vwnd-925-2010-6', 'wind-vwnd-925-2010-7', 'wind-vwnd-925-2010-8', 'wind-vwnd-925-2010-9', 'wind-vwnd-925-2010-10', 'wind-vwnd-925-2010-11', 'wind-vwnd-925-2010-12', 'wind-vwnd-925-2010-13', 'wind-vwnd-925-2010-14', 'wind-vwnd-925-2010-15', 'wind-vwnd-925-2010-16', 'wind-vwnd-925-2010-17', 'wind-vwnd-925-2010-18', 'wind-vwnd-925-2010-19', 'wind-vwnd-925-2010-20', 'year', 'month', 'day', 'weekday']\n"
          ]
        }
      ]
    },
    {
      "cell_type": "markdown",
      "source": [
        "defining feature and target"
      ],
      "metadata": {
        "id": "PxYEjFkn_G2z"
      }
    },
    {
      "cell_type": "code",
      "source": [
        "# Print the list of columns (if not already printed)\n",
        "print(train_df.columns.tolist())\n",
        "\n",
        "# Define the target column – update this if you want a different target\n",
        "target_column = 'contest-precip-14d__precip'\n",
        "\n",
        "# Create feature matrix X and target vector y\n",
        "X = train_df.drop(target_column, axis=1)\n",
        "y = train_df[target_column]\n",
        "\n",
        "print(\"Features shape:\", X.shape)\n",
        "print(\"Target shape:\", y.shape)\n"
      ],
      "metadata": {
        "colab": {
          "base_uri": "https://localhost:8080/"
        },
        "id": "IMvqzuAL-frB",
        "outputId": "ad460513-8821-43bf-ee04-ef8db706856c"
      },
      "execution_count": 18,
      "outputs": [
        {
          "output_type": "stream",
          "name": "stdout",
          "text": [
            "['lat', 'lon', 'contest-pevpr-sfc-gauss-14d__pevpr', 'nmme0-tmp2m-34w__cancm30', 'nmme0-tmp2m-34w__cancm40', 'nmme0-tmp2m-34w__ccsm30', 'nmme0-tmp2m-34w__ccsm40', 'nmme0-tmp2m-34w__cfsv20', 'nmme0-tmp2m-34w__gfdlflora0', 'nmme0-tmp2m-34w__gfdlflorb0', 'nmme0-tmp2m-34w__gfdl0', 'nmme0-tmp2m-34w__nasa0', 'nmme0-tmp2m-34w__nmme0mean', 'contest-wind-h10-14d__wind-hgt-10', 'nmme-tmp2m-56w__cancm3', 'nmme-tmp2m-56w__cancm4', 'nmme-tmp2m-56w__ccsm3', 'nmme-tmp2m-56w__ccsm4', 'nmme-tmp2m-56w__cfsv2', 'nmme-tmp2m-56w__gfdl', 'nmme-tmp2m-56w__gfdlflora', 'nmme-tmp2m-56w__gfdlflorb', 'nmme-tmp2m-56w__nasa', 'nmme-tmp2m-56w__nmmemean', 'contest-rhum-sig995-14d__rhum', 'nmme-prate-34w__cancm3', 'nmme-prate-34w__cancm4', 'nmme-prate-34w__ccsm3', 'nmme-prate-34w__ccsm4', 'nmme-prate-34w__cfsv2', 'nmme-prate-34w__gfdl', 'nmme-prate-34w__gfdlflora', 'nmme-prate-34w__gfdlflorb', 'nmme-prate-34w__nasa', 'nmme-prate-34w__nmmemean', 'contest-wind-h100-14d__wind-hgt-100', 'nmme0-prate-56w__cancm30', 'nmme0-prate-56w__cancm40', 'nmme0-prate-56w__ccsm30', 'nmme0-prate-56w__ccsm40', 'nmme0-prate-56w__cfsv20', 'nmme0-prate-56w__gfdlflora0', 'nmme0-prate-56w__gfdlflorb0', 'nmme0-prate-56w__gfdl0', 'nmme0-prate-56w__nasa0', 'nmme0-prate-56w__nmme0mean', 'nmme0-prate-34w__cancm30', 'nmme0-prate-34w__cancm40', 'nmme0-prate-34w__ccsm30', 'nmme0-prate-34w__ccsm40', 'nmme0-prate-34w__cfsv20', 'nmme0-prate-34w__gfdlflora0', 'nmme0-prate-34w__gfdlflorb0', 'nmme0-prate-34w__gfdl0', 'nmme0-prate-34w__nasa0', 'nmme0-prate-34w__nmme0mean', 'contest-tmp2m-14d__tmp2m', 'contest-slp-14d__slp', 'contest-wind-vwnd-925-14d__wind-vwnd-925', 'nmme-prate-56w__cancm3', 'nmme-prate-56w__cancm4', 'nmme-prate-56w__ccsm3', 'nmme-prate-56w__ccsm4', 'nmme-prate-56w__cfsv2', 'nmme-prate-56w__gfdl', 'nmme-prate-56w__gfdlflora', 'nmme-prate-56w__gfdlflorb', 'nmme-prate-56w__nasa', 'nmme-prate-56w__nmmemean', 'contest-pres-sfc-gauss-14d__pres', 'contest-wind-uwnd-250-14d__wind-uwnd-250', 'nmme-tmp2m-34w__cancm3', 'nmme-tmp2m-34w__cancm4', 'nmme-tmp2m-34w__ccsm3', 'nmme-tmp2m-34w__ccsm4', 'nmme-tmp2m-34w__cfsv2', 'nmme-tmp2m-34w__gfdl', 'nmme-tmp2m-34w__gfdlflora', 'nmme-tmp2m-34w__gfdlflorb', 'nmme-tmp2m-34w__nasa', 'nmme-tmp2m-34w__nmmemean', 'contest-prwtr-eatm-14d__prwtr', 'contest-wind-vwnd-250-14d__wind-vwnd-250', 'contest-precip-14d__precip', 'contest-wind-h850-14d__wind-hgt-850', 'contest-wind-uwnd-925-14d__wind-uwnd-925', 'contest-wind-h500-14d__wind-hgt-500', 'cancm30', 'cancm40', 'ccsm30', 'ccsm40', 'cfsv20', 'gfdlflora0', 'gfdlflorb0', 'gfdl0', 'nasa0', 'nmme0mean', 'climateregions__climateregion', 'elevation__elevation', 'wind-vwnd-250-2010-1', 'wind-vwnd-250-2010-2', 'wind-vwnd-250-2010-3', 'wind-vwnd-250-2010-4', 'wind-vwnd-250-2010-5', 'wind-vwnd-250-2010-6', 'wind-vwnd-250-2010-7', 'wind-vwnd-250-2010-8', 'wind-vwnd-250-2010-9', 'wind-vwnd-250-2010-10', 'wind-vwnd-250-2010-11', 'wind-vwnd-250-2010-12', 'wind-vwnd-250-2010-13', 'wind-vwnd-250-2010-14', 'wind-vwnd-250-2010-15', 'wind-vwnd-250-2010-16', 'wind-vwnd-250-2010-17', 'wind-vwnd-250-2010-18', 'wind-vwnd-250-2010-19', 'wind-vwnd-250-2010-20', 'wind-uwnd-250-2010-1', 'wind-uwnd-250-2010-2', 'wind-uwnd-250-2010-3', 'wind-uwnd-250-2010-4', 'wind-uwnd-250-2010-5', 'wind-uwnd-250-2010-6', 'wind-uwnd-250-2010-7', 'wind-uwnd-250-2010-8', 'wind-uwnd-250-2010-9', 'wind-uwnd-250-2010-10', 'wind-uwnd-250-2010-11', 'wind-uwnd-250-2010-12', 'wind-uwnd-250-2010-13', 'wind-uwnd-250-2010-14', 'wind-uwnd-250-2010-15', 'wind-uwnd-250-2010-16', 'wind-uwnd-250-2010-17', 'wind-uwnd-250-2010-18', 'wind-uwnd-250-2010-19', 'wind-uwnd-250-2010-20', 'mjo1d__phase', 'mjo1d__amplitude', 'mei__mei', 'mei__meirank', 'mei__nip', 'wind-hgt-850-2010-1', 'wind-hgt-850-2010-2', 'wind-hgt-850-2010-3', 'wind-hgt-850-2010-4', 'wind-hgt-850-2010-5', 'wind-hgt-850-2010-6', 'wind-hgt-850-2010-7', 'wind-hgt-850-2010-8', 'wind-hgt-850-2010-9', 'wind-hgt-850-2010-10', 'sst-2010-1', 'sst-2010-2', 'sst-2010-3', 'sst-2010-4', 'sst-2010-5', 'sst-2010-6', 'sst-2010-7', 'sst-2010-8', 'sst-2010-9', 'sst-2010-10', 'wind-hgt-500-2010-1', 'wind-hgt-500-2010-2', 'wind-hgt-500-2010-3', 'wind-hgt-500-2010-4', 'wind-hgt-500-2010-5', 'wind-hgt-500-2010-6', 'wind-hgt-500-2010-7', 'wind-hgt-500-2010-8', 'wind-hgt-500-2010-9', 'wind-hgt-500-2010-10', 'icec-2010-1', 'icec-2010-2', 'icec-2010-3', 'icec-2010-4', 'icec-2010-5', 'icec-2010-6', 'icec-2010-7', 'icec-2010-8', 'icec-2010-9', 'icec-2010-10', 'wind-uwnd-925-2010-1', 'wind-uwnd-925-2010-2', 'wind-uwnd-925-2010-3', 'wind-uwnd-925-2010-4', 'wind-uwnd-925-2010-5', 'wind-uwnd-925-2010-6', 'wind-uwnd-925-2010-7', 'wind-uwnd-925-2010-8', 'wind-uwnd-925-2010-9', 'wind-uwnd-925-2010-10', 'wind-uwnd-925-2010-11', 'wind-uwnd-925-2010-12', 'wind-uwnd-925-2010-13', 'wind-uwnd-925-2010-14', 'wind-uwnd-925-2010-15', 'wind-uwnd-925-2010-16', 'wind-uwnd-925-2010-17', 'wind-uwnd-925-2010-18', 'wind-uwnd-925-2010-19', 'wind-uwnd-925-2010-20', 'wind-hgt-10-2010-1', 'wind-hgt-10-2010-2', 'wind-hgt-10-2010-3', 'wind-hgt-10-2010-4', 'wind-hgt-10-2010-5', 'wind-hgt-10-2010-6', 'wind-hgt-10-2010-7', 'wind-hgt-10-2010-8', 'wind-hgt-10-2010-9', 'wind-hgt-10-2010-10', 'wind-hgt-100-2010-1', 'wind-hgt-100-2010-2', 'wind-hgt-100-2010-3', 'wind-hgt-100-2010-4', 'wind-hgt-100-2010-5', 'wind-hgt-100-2010-6', 'wind-hgt-100-2010-7', 'wind-hgt-100-2010-8', 'wind-hgt-100-2010-9', 'wind-hgt-100-2010-10', 'wind-vwnd-925-2010-1', 'wind-vwnd-925-2010-2', 'wind-vwnd-925-2010-3', 'wind-vwnd-925-2010-4', 'wind-vwnd-925-2010-5', 'wind-vwnd-925-2010-6', 'wind-vwnd-925-2010-7', 'wind-vwnd-925-2010-8', 'wind-vwnd-925-2010-9', 'wind-vwnd-925-2010-10', 'wind-vwnd-925-2010-11', 'wind-vwnd-925-2010-12', 'wind-vwnd-925-2010-13', 'wind-vwnd-925-2010-14', 'wind-vwnd-925-2010-15', 'wind-vwnd-925-2010-16', 'wind-vwnd-925-2010-17', 'wind-vwnd-925-2010-18', 'wind-vwnd-925-2010-19', 'wind-vwnd-925-2010-20', 'year', 'month', 'day', 'weekday']\n",
            "Features shape: (375734, 247)\n",
            "Target shape: (375734,)\n"
          ]
        }
      ]
    },
    {
      "cell_type": "markdown",
      "source": [
        "data splitting"
      ],
      "metadata": {
        "id": "vEbjbGb8_Q9K"
      }
    },
    {
      "cell_type": "code",
      "source": [
        "from sklearn.model_selection import train_test_split\n",
        "\n",
        "# Split data: 80% training, 20% validation\n",
        "X_train, X_val, y_train, y_val = train_test_split(X, y, test_size=0.2, random_state=42)\n",
        "\n",
        "print(\"X_train shape:\", X_train.shape)\n",
        "print(\"X_val shape:\", X_val.shape)\n"
      ],
      "metadata": {
        "colab": {
          "base_uri": "https://localhost:8080/"
        },
        "id": "g1uR7kqR_TE7",
        "outputId": "9748aa0e-90a5-4112-8bb2-8657f1ccb24e"
      },
      "execution_count": 19,
      "outputs": [
        {
          "output_type": "stream",
          "name": "stdout",
          "text": [
            "X_train shape: (300587, 247)\n",
            "X_val shape: (75147, 247)\n"
          ]
        }
      ]
    },
    {
      "cell_type": "markdown",
      "source": [
        "training data for XGboost"
      ],
      "metadata": {
        "id": "4KpdE56VADLR"
      }
    },
    {
      "cell_type": "code",
      "source": [
        "# Find non-numeric columns in X_train\n",
        "non_numeric_cols = X_train.select_dtypes(exclude=['int64', 'float64', 'bool']).columns.tolist()\n",
        "print(\"Non-numeric columns:\", non_numeric_cols)\n"
      ],
      "metadata": {
        "colab": {
          "base_uri": "https://localhost:8080/"
        },
        "id": "GU8DzsM5AG6r",
        "outputId": "347f5578-9d67-420b-b06e-32ec0520db05"
      },
      "execution_count": 21,
      "outputs": [
        {
          "output_type": "stream",
          "name": "stdout",
          "text": [
            "Non-numeric columns: ['climateregions__climateregion', 'year', 'month', 'day', 'weekday']\n"
          ]
        }
      ]
    },
    {
      "cell_type": "markdown",
      "source": [
        "converting non numeric columns"
      ],
      "metadata": {
        "id": "1qBgpbDGAuo4"
      }
    },
    {
      "cell_type": "code",
      "source": [
        "import pandas as pd\n",
        "from sklearn.preprocessing import LabelEncoder\n",
        "\n",
        "# List of non-numeric columns identified\n",
        "non_numeric_cols = ['climateregions__climateregion', 'year', 'month', 'day', 'weekday']\n",
        "\n",
        "# For columns that should be numeric (year, month, day, weekday), convert them\n",
        "for col in ['year', 'month', 'day', 'weekday']:\n",
        "    X_train[col] = pd.to_numeric(X_train[col], errors='coerce')\n",
        "    X_val[col]   = pd.to_numeric(X_val[col], errors='coerce')\n",
        "\n",
        "# For the categorical column, use LabelEncoder\n",
        "le = LabelEncoder()\n",
        "X_train['climateregions__climateregion'] = le.fit_transform(X_train['climateregions__climateregion'])\n",
        "X_val['climateregions__climateregion']   = le.transform(X_val['climateregions__climateregion'])\n",
        "\n",
        "# Verify conversion\n",
        "print(\"Data types after conversion:\")\n",
        "print(X_train.dtypes)\n"
      ],
      "metadata": {
        "colab": {
          "base_uri": "https://localhost:8080/"
        },
        "id": "QXUrdI7WA0E_",
        "outputId": "4d56bdcd-7ff8-4b2d-cafa-2502ca399a18"
      },
      "execution_count": 22,
      "outputs": [
        {
          "output_type": "stream",
          "name": "stdout",
          "text": [
            "Data types after conversion:\n",
            "lat                                   float64\n",
            "lon                                   float64\n",
            "contest-pevpr-sfc-gauss-14d__pevpr    float64\n",
            "nmme0-tmp2m-34w__cancm30              float64\n",
            "nmme0-tmp2m-34w__cancm40              float64\n",
            "                                       ...   \n",
            "wind-vwnd-925-2010-20                 float64\n",
            "year                                    int32\n",
            "month                                   int32\n",
            "day                                     int32\n",
            "weekday                                 int32\n",
            "Length: 247, dtype: object\n"
          ]
        }
      ]
    },
    {
      "cell_type": "markdown",
      "source": [
        "Create DMatrix Objects for XGBoost"
      ],
      "metadata": {
        "id": "OrqejqoFA65f"
      }
    },
    {
      "cell_type": "code",
      "source": [
        "import xgboost as xgb\n",
        "\n",
        "target_column = 'contest-precip-14d__precip'  # Replace with your actual target column if different\n",
        "\n",
        "# Ensure y has the same index as X_train and X_val\n",
        "dtrain = xgb.DMatrix(X_train, label=y.loc[X_train.index])\n",
        "dval   = xgb.DMatrix(X_val, label=y.loc[X_val.index])\n"
      ],
      "metadata": {
        "id": "Rmb5hlIPA8sW"
      },
      "execution_count": 23,
      "outputs": []
    },
    {
      "cell_type": "markdown",
      "source": [
        "checking target column"
      ],
      "metadata": {
        "id": "31T1u1FWBpMp"
      }
    },
    {
      "cell_type": "code",
      "source": [
        "# Define your target column name (update this if needed)\n",
        "target_column = 'contest-precip-14d__precip'\n",
        "\n",
        "# Check if the target column exists in the DataFrame\n",
        "if target_column in train_df.columns:\n",
        "    print(f\"Target column '{target_column}' exists.\")\n",
        "    # Print the first few values of the target column\n",
        "    print(\"First 5 values:\")\n",
        "    print(train_df[target_column].head())\n",
        "\n",
        "    # Display summary statistics of the target column\n",
        "    print(\"\\nSummary statistics:\")\n",
        "    print(train_df[target_column].describe())\n",
        "else:\n",
        "    print(f\"Target column '{target_column}' not found in the DataFrame.\")\n"
      ],
      "metadata": {
        "colab": {
          "base_uri": "https://localhost:8080/"
        },
        "id": "-LyNH69MBsUy",
        "outputId": "00538e13-9838-4449-939f-105e50c49347"
      },
      "execution_count": 24,
      "outputs": [
        {
          "output_type": "stream",
          "name": "stdout",
          "text": [
            "Target column 'contest-precip-14d__precip' exists.\n",
            "First 5 values:\n",
            "0    2.225238\n",
            "1    2.428919\n",
            "2    2.441377\n",
            "3    2.461621\n",
            "4    1.871443\n",
            "Name: contest-precip-14d__precip, dtype: float64\n",
            "\n",
            "Summary statistics:\n",
            "count    3.757340e+05\n",
            "mean    -1.210291e-18\n",
            "std      1.000001e+00\n",
            "min     -7.119452e-01\n",
            "25%     -5.939097e-01\n",
            "50%     -3.326122e-01\n",
            "75%      1.862456e-01\n",
            "max      1.494192e+01\n",
            "Name: contest-precip-14d__precip, dtype: float64\n"
          ]
        }
      ]
    }
  ]
}